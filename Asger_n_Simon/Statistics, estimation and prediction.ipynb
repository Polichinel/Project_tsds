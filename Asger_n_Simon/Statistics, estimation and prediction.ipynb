{
 "cells": [
  {
   "cell_type": "code",
   "execution_count": 486,
   "metadata": {},
   "outputs": [],
   "source": [
    "import os\n",
    "import numpy as np\n",
    "import pandas as pd\n",
    "from congress import Congress\n",
    "import datetime as DT\n",
    "import networkx as nx\n",
    "import matplotlib.pyplot as plt\n",
    "import seaborn as sns\n",
    "from sklearn.ensemble import RandomForestRegressor\n",
    "from sklearn.linear_model import LogisticRegression #machine learning module - recomended\n",
    "from sklearn import metrics\n",
    "import statsmodels.api as sm\n",
    "os.chdir('C:/Users/Asger/Dropbox/Økonomi/Topics in Social Data Science/Projekt/Asger')"
   ]
  },
  {
   "cell_type": "markdown",
   "metadata": {},
   "source": [
    "### Loading data"
   ]
  },
  {
   "cell_type": "code",
   "execution_count": 383,
   "metadata": {},
   "outputs": [],
   "source": [
    "drop_list = ['member1_id','member2_id','fullname_1','fullname_2','twitter_account_1','twitter_account_2','party_x','party_y']\n",
    "\n",
    "df_dem = pd.read_csv('df_dem_final_woZero.csv',delimiter=',', index_col =0)\n",
    "df_dem = df_dem.drop(drop_list, axis=1)\n",
    "\n",
    "df_rep = pd.read_csv('df_rep_final_woZero.csv',delimiter=',', index_col =0)\n",
    "df_rep = df_rep.drop(drop_list, axis=1)\n",
    "\n",
    "df_all = pd.read_csv('df_all_final_woZero.csv',delimiter=',', index_col =0)\n",
    "df_all = df_all.drop(drop_list, axis=1)"
   ]
  },
  {
   "cell_type": "code",
   "execution_count": 384,
   "metadata": {},
   "outputs": [],
   "source": [
    "# Reading this data for statistics.\n",
    "df_dem_raw = pd.read_csv('df_dem_final_raw.csv',delimiter=',', index_col =0)\n",
    "df_dem_raw = df_dem_raw.drop(drop_list, axis=1)\n",
    "\n",
    "df_rep_raw = pd.read_csv('df_rep_final_raw.csv',delimiter=',', index_col =0)\n",
    "df_rep_raw = df_rep_raw.drop(drop_list, axis=1)\n",
    "\n",
    "df_all_raw = pd.read_csv('df_all_final_raw.csv',delimiter=',', index_col =0)\n",
    "df_all_raw = df_all_raw.drop(drop_list, axis=1)"
   ]
  },
  {
   "cell_type": "markdown",
   "metadata": {},
   "source": [
    "## Statistic for the democrats"
   ]
  },
  {
   "cell_type": "code",
   "execution_count": 385,
   "metadata": {},
   "outputs": [
    {
     "data": {
      "text/html": [
       "<div>\n",
       "<style scoped>\n",
       "    .dataframe tbody tr th:only-of-type {\n",
       "        vertical-align: middle;\n",
       "    }\n",
       "\n",
       "    .dataframe tbody tr th {\n",
       "        vertical-align: top;\n",
       "    }\n",
       "\n",
       "    .dataframe thead th {\n",
       "        text-align: right;\n",
       "    }\n",
       "</style>\n",
       "<table border=\"1\" class=\"dataframe\">\n",
       "  <thead>\n",
       "    <tr style=\"text-align: right;\">\n",
       "      <th></th>\n",
       "      <th>agree_percent</th>\n",
       "      <th>same_gender</th>\n",
       "      <th>same_age</th>\n",
       "      <th>same_state</th>\n",
       "      <th>neighborState</th>\n",
       "      <th>distance</th>\n",
       "    </tr>\n",
       "  </thead>\n",
       "  <tbody>\n",
       "    <tr>\n",
       "      <th>0</th>\n",
       "      <td>95.79</td>\n",
       "      <td>1</td>\n",
       "      <td>0</td>\n",
       "      <td>0</td>\n",
       "      <td>0</td>\n",
       "      <td>50.126964</td>\n",
       "    </tr>\n",
       "    <tr>\n",
       "      <th>1</th>\n",
       "      <td>96.37</td>\n",
       "      <td>0</td>\n",
       "      <td>0</td>\n",
       "      <td>0</td>\n",
       "      <td>0</td>\n",
       "      <td>39.737375</td>\n",
       "    </tr>\n",
       "    <tr>\n",
       "      <th>2</th>\n",
       "      <td>93.67</td>\n",
       "      <td>1</td>\n",
       "      <td>0</td>\n",
       "      <td>0</td>\n",
       "      <td>0</td>\n",
       "      <td>43.074248</td>\n",
       "    </tr>\n",
       "    <tr>\n",
       "      <th>3</th>\n",
       "      <td>92.16</td>\n",
       "      <td>0</td>\n",
       "      <td>0</td>\n",
       "      <td>0</td>\n",
       "      <td>0</td>\n",
       "      <td>10.570002</td>\n",
       "    </tr>\n",
       "    <tr>\n",
       "      <th>4</th>\n",
       "      <td>95.56</td>\n",
       "      <td>1</td>\n",
       "      <td>0</td>\n",
       "      <td>0</td>\n",
       "      <td>0</td>\n",
       "      <td>39.873279</td>\n",
       "    </tr>\n",
       "  </tbody>\n",
       "</table>\n",
       "</div>"
      ],
      "text/plain": [
       "   agree_percent  same_gender  same_age  same_state  neighborState   distance\n",
       "0          95.79            1         0           0              0  50.126964\n",
       "1          96.37            0         0           0              0  39.737375\n",
       "2          93.67            1         0           0              0  43.074248\n",
       "3          92.16            0         0           0              0  10.570002\n",
       "4          95.56            1         0           0              0  39.873279"
      ]
     },
     "execution_count": 385,
     "metadata": {},
     "output_type": "execute_result"
    }
   ],
   "source": [
    "df_dem_raw.head()"
   ]
  },
  {
   "cell_type": "code",
   "execution_count": 386,
   "metadata": {},
   "outputs": [
    {
     "data": {
      "text/html": [
       "<div>\n",
       "<style scoped>\n",
       "    .dataframe tbody tr th:only-of-type {\n",
       "        vertical-align: middle;\n",
       "    }\n",
       "\n",
       "    .dataframe tbody tr th {\n",
       "        vertical-align: top;\n",
       "    }\n",
       "\n",
       "    .dataframe thead th {\n",
       "        text-align: right;\n",
       "    }\n",
       "</style>\n",
       "<table border=\"1\" class=\"dataframe\">\n",
       "  <thead>\n",
       "    <tr style=\"text-align: right;\">\n",
       "      <th></th>\n",
       "      <th>agree_percent</th>\n",
       "      <th>same_gender</th>\n",
       "      <th>same_age</th>\n",
       "      <th>same_state</th>\n",
       "      <th>neighborState</th>\n",
       "      <th>distance</th>\n",
       "      <th>ademic</th>\n",
       "      <th>jaccard</th>\n",
       "    </tr>\n",
       "  </thead>\n",
       "  <tbody>\n",
       "    <tr>\n",
       "      <th>count</th>\n",
       "      <td>7865.000000</td>\n",
       "      <td>7865.000000</td>\n",
       "      <td>7865.000000</td>\n",
       "      <td>7865.000000</td>\n",
       "      <td>7865.000000</td>\n",
       "      <td>7865.000000</td>\n",
       "      <td>7865.000000</td>\n",
       "      <td>7865.000000</td>\n",
       "    </tr>\n",
       "    <tr>\n",
       "      <th>mean</th>\n",
       "      <td>92.691760</td>\n",
       "      <td>0.568722</td>\n",
       "      <td>0.430261</td>\n",
       "      <td>0.036999</td>\n",
       "      <td>0.091926</td>\n",
       "      <td>25.862982</td>\n",
       "      <td>4.294222</td>\n",
       "      <td>0.210596</td>\n",
       "    </tr>\n",
       "    <tr>\n",
       "      <th>std</th>\n",
       "      <td>3.616428</td>\n",
       "      <td>0.495286</td>\n",
       "      <td>0.495144</td>\n",
       "      <td>0.188772</td>\n",
       "      <td>0.288940</td>\n",
       "      <td>17.494997</td>\n",
       "      <td>3.279432</td>\n",
       "      <td>0.130556</td>\n",
       "    </tr>\n",
       "    <tr>\n",
       "      <th>min</th>\n",
       "      <td>75.090000</td>\n",
       "      <td>0.000000</td>\n",
       "      <td>0.000000</td>\n",
       "      <td>0.000000</td>\n",
       "      <td>0.000000</td>\n",
       "      <td>0.092775</td>\n",
       "      <td>0.000000</td>\n",
       "      <td>0.000000</td>\n",
       "    </tr>\n",
       "    <tr>\n",
       "      <th>25%</th>\n",
       "      <td>91.410000</td>\n",
       "      <td>0.000000</td>\n",
       "      <td>0.000000</td>\n",
       "      <td>0.000000</td>\n",
       "      <td>0.000000</td>\n",
       "      <td>11.325787</td>\n",
       "      <td>1.525853</td>\n",
       "      <td>0.093333</td>\n",
       "    </tr>\n",
       "    <tr>\n",
       "      <th>50%</th>\n",
       "      <td>93.620000</td>\n",
       "      <td>1.000000</td>\n",
       "      <td>0.000000</td>\n",
       "      <td>0.000000</td>\n",
       "      <td>0.000000</td>\n",
       "      <td>23.683439</td>\n",
       "      <td>3.780111</td>\n",
       "      <td>0.205128</td>\n",
       "    </tr>\n",
       "    <tr>\n",
       "      <th>75%</th>\n",
       "      <td>95.060000</td>\n",
       "      <td>1.000000</td>\n",
       "      <td>1.000000</td>\n",
       "      <td>0.000000</td>\n",
       "      <td>0.000000</td>\n",
       "      <td>41.212586</td>\n",
       "      <td>6.369449</td>\n",
       "      <td>0.299065</td>\n",
       "    </tr>\n",
       "    <tr>\n",
       "      <th>max</th>\n",
       "      <td>98.640000</td>\n",
       "      <td>1.000000</td>\n",
       "      <td>1.000000</td>\n",
       "      <td>1.000000</td>\n",
       "      <td>1.000000</td>\n",
       "      <td>89.649081</td>\n",
       "      <td>25.575065</td>\n",
       "      <td>0.782609</td>\n",
       "    </tr>\n",
       "  </tbody>\n",
       "</table>\n",
       "</div>"
      ],
      "text/plain": [
       "       agree_percent  same_gender     same_age   same_state  neighborState  \\\n",
       "count    7865.000000  7865.000000  7865.000000  7865.000000    7865.000000   \n",
       "mean       92.691760     0.568722     0.430261     0.036999       0.091926   \n",
       "std         3.616428     0.495286     0.495144     0.188772       0.288940   \n",
       "min        75.090000     0.000000     0.000000     0.000000       0.000000   \n",
       "25%        91.410000     0.000000     0.000000     0.000000       0.000000   \n",
       "50%        93.620000     1.000000     0.000000     0.000000       0.000000   \n",
       "75%        95.060000     1.000000     1.000000     0.000000       0.000000   \n",
       "max        98.640000     1.000000     1.000000     1.000000       1.000000   \n",
       "\n",
       "          distance       ademic      jaccard  \n",
       "count  7865.000000  7865.000000  7865.000000  \n",
       "mean     25.862982     4.294222     0.210596  \n",
       "std      17.494997     3.279432     0.130556  \n",
       "min       0.092775     0.000000     0.000000  \n",
       "25%      11.325787     1.525853     0.093333  \n",
       "50%      23.683439     3.780111     0.205128  \n",
       "75%      41.212586     6.369449     0.299065  \n",
       "max      89.649081    25.575065     0.782609  "
      ]
     },
     "execution_count": 386,
     "metadata": {},
     "output_type": "execute_result"
    }
   ],
   "source": [
    "df_dem.describe()\n",
    "\n",
    "# Without zeroes: 7,865\n",
    "# With zeroes: 12,720"
   ]
  },
  {
   "cell_type": "code",
   "execution_count": 387,
   "metadata": {},
   "outputs": [
    {
     "data": {
      "text/plain": [
       "17955"
      ]
     },
     "execution_count": 387,
     "metadata": {},
     "output_type": "execute_result"
    }
   ],
   "source": [
    "len(df_dem_raw)"
   ]
  },
  {
   "cell_type": "code",
   "execution_count": 560,
   "metadata": {},
   "outputs": [
    {
     "data": {
      "image/png": "[encoded data removed]",
      "text/plain": [
       "<matplotlib.figure.Figure at 0x1f961227a90>"
      ]
     },
     "metadata": {},
     "output_type": "display_data"
    }
   ],
   "source": [
    "# Generate a mask for the upper triangle\n",
    "corr = df_dem.corr()\n",
    "mask = np.zeros_like(corr, dtype=np.bool)\n",
    "mask[np.triu_indices_from(mask)] = True\n",
    "\n",
    "# Set up the matplotlib figure\n",
    "f, ax = plt.subplots(figsize=(11, 9))\n",
    "\n",
    "# Generate a custom diverging colormap\n",
    "cmap = sns.diverging_palette(220, 10, as_cmap=True)\n",
    "\n",
    "xticks = ['Agree procent','Same gender', 'Same age', 'Same state', 'Neighbor state', 'Distance','Adamic', 'Jaccard']\n",
    "# Draw the heatmap with the mask and correct aspect ratio\n",
    "sns.heatmap(corr, mask=mask, cmap=cmap, vmax=.3, center=0, annot=True, annot_kws={\"size\": 12}, xticklabels=xticks,  yticklabels=xticks,\n",
    "            square=True, linewidths=.5, cbar=None)\n",
    "\n",
    "plt.xticks(fontsize = 12)\n",
    "plt.yticks(fontsize = 12)\n",
    "\n",
    "plt.savefig('heatmap_dem.pdf', bbox_inches=\"tight\")"
   ]
  },
  {
   "cell_type": "code",
   "execution_count": null,
   "metadata": {},
   "outputs": [],
   "source": []
  },
  {
   "cell_type": "markdown",
   "metadata": {},
   "source": [
    "### Statistic for the republicans"
   ]
  },
  {
   "cell_type": "code",
   "execution_count": 389,
   "metadata": {},
   "outputs": [
    {
     "data": {
      "text/html": [
       "<div>\n",
       "<style scoped>\n",
       "    .dataframe tbody tr th:only-of-type {\n",
       "        vertical-align: middle;\n",
       "    }\n",
       "\n",
       "    .dataframe tbody tr th {\n",
       "        vertical-align: top;\n",
       "    }\n",
       "\n",
       "    .dataframe thead th {\n",
       "        text-align: right;\n",
       "    }\n",
       "</style>\n",
       "<table border=\"1\" class=\"dataframe\">\n",
       "  <thead>\n",
       "    <tr style=\"text-align: right;\">\n",
       "      <th></th>\n",
       "      <th>agree_percent</th>\n",
       "      <th>same_gender</th>\n",
       "      <th>same_age</th>\n",
       "      <th>same_state</th>\n",
       "      <th>neighborState</th>\n",
       "      <th>distance</th>\n",
       "    </tr>\n",
       "  </thead>\n",
       "  <tbody>\n",
       "    <tr>\n",
       "      <th>count</th>\n",
       "      <td>25256.000000</td>\n",
       "      <td>25256.000000</td>\n",
       "      <td>25256.000000</td>\n",
       "      <td>25256.000000</td>\n",
       "      <td>25256.000000</td>\n",
       "      <td>25256.000000</td>\n",
       "    </tr>\n",
       "    <tr>\n",
       "      <th>mean</th>\n",
       "      <td>92.907410</td>\n",
       "      <td>0.831882</td>\n",
       "      <td>0.498575</td>\n",
       "      <td>0.036902</td>\n",
       "      <td>0.106272</td>\n",
       "      <td>16.170486</td>\n",
       "    </tr>\n",
       "    <tr>\n",
       "      <th>std</th>\n",
       "      <td>4.704861</td>\n",
       "      <td>0.373979</td>\n",
       "      <td>0.500008</td>\n",
       "      <td>0.188525</td>\n",
       "      <td>0.308191</td>\n",
       "      <td>11.580626</td>\n",
       "    </tr>\n",
       "    <tr>\n",
       "      <th>min</th>\n",
       "      <td>17.650000</td>\n",
       "      <td>0.000000</td>\n",
       "      <td>0.000000</td>\n",
       "      <td>0.000000</td>\n",
       "      <td>0.000000</td>\n",
       "      <td>0.240274</td>\n",
       "    </tr>\n",
       "    <tr>\n",
       "      <th>25%</th>\n",
       "      <td>91.680000</td>\n",
       "      <td>1.000000</td>\n",
       "      <td>0.000000</td>\n",
       "      <td>0.000000</td>\n",
       "      <td>0.000000</td>\n",
       "      <td>7.933741</td>\n",
       "    </tr>\n",
       "    <tr>\n",
       "      <th>50%</th>\n",
       "      <td>93.790000</td>\n",
       "      <td>1.000000</td>\n",
       "      <td>0.000000</td>\n",
       "      <td>0.000000</td>\n",
       "      <td>0.000000</td>\n",
       "      <td>13.239355</td>\n",
       "    </tr>\n",
       "    <tr>\n",
       "      <th>75%</th>\n",
       "      <td>95.550000</td>\n",
       "      <td>1.000000</td>\n",
       "      <td>1.000000</td>\n",
       "      <td>0.000000</td>\n",
       "      <td>0.000000</td>\n",
       "      <td>21.449163</td>\n",
       "    </tr>\n",
       "    <tr>\n",
       "      <th>max</th>\n",
       "      <td>100.000000</td>\n",
       "      <td>1.000000</td>\n",
       "      <td>1.000000</td>\n",
       "      <td>1.000000</td>\n",
       "      <td>1.000000</td>\n",
       "      <td>85.170404</td>\n",
       "    </tr>\n",
       "  </tbody>\n",
       "</table>\n",
       "</div>"
      ],
      "text/plain": [
       "       agree_percent   same_gender      same_age    same_state  neighborState  \\\n",
       "count   25256.000000  25256.000000  25256.000000  25256.000000   25256.000000   \n",
       "mean       92.907410      0.831882      0.498575      0.036902       0.106272   \n",
       "std         4.704861      0.373979      0.500008      0.188525       0.308191   \n",
       "min        17.650000      0.000000      0.000000      0.000000       0.000000   \n",
       "25%        91.680000      1.000000      0.000000      0.000000       0.000000   \n",
       "50%        93.790000      1.000000      0.000000      0.000000       0.000000   \n",
       "75%        95.550000      1.000000      1.000000      0.000000       0.000000   \n",
       "max       100.000000      1.000000      1.000000      1.000000       1.000000   \n",
       "\n",
       "           distance  \n",
       "count  25256.000000  \n",
       "mean      16.170486  \n",
       "std       11.580626  \n",
       "min        0.240274  \n",
       "25%        7.933741  \n",
       "50%       13.239355  \n",
       "75%       21.449163  \n",
       "max       85.170404  "
      ]
     },
     "execution_count": 389,
     "metadata": {},
     "output_type": "execute_result"
    }
   ],
   "source": [
    "df_rep_raw.describe()\n",
    "\n",
    "# With zero: 13,777\n",
    "#With out: 20.555\n",
    "# Number of zeroes: "
   ]
  },
  {
   "cell_type": "code",
   "execution_count": 390,
   "metadata": {},
   "outputs": [
    {
     "data": {
      "text/plain": [
       "25256"
      ]
     },
     "execution_count": 390,
     "metadata": {},
     "output_type": "execute_result"
    }
   ],
   "source": [
    "len(df_rep_raw)"
   ]
  },
  {
   "cell_type": "code",
   "execution_count": 561,
   "metadata": {},
   "outputs": [
    {
     "data": {
      "image/png": "[encoded data removed]",
      "text/plain": [
       "<matplotlib.figure.Figure at 0x1f96100bf60>"
      ]
     },
     "metadata": {},
     "output_type": "display_data"
    }
   ],
   "source": [
    "# Generate a mask for the upper triangle\n",
    "corr = df_rep.corr()\n",
    "mask = np.zeros_like(corr, dtype=np.bool)\n",
    "mask[np.triu_indices_from(mask)] = True\n",
    "\n",
    "# Set up the matplotlib figure\n",
    "f, ax = plt.subplots(figsize=(11, 9))\n",
    "\n",
    "# Generate a custom diverging colormap\n",
    "cmap = sns.diverging_palette(220, 10, as_cmap=True)\n",
    "\n",
    "xticks = ['Agree procent','Same gender', 'Same age', 'Same state', 'Neighbor state', 'Distance','Adamic', 'Jaccard']\n",
    "# Draw the heatmap with the mask and correct aspect ratio\n",
    "sns.heatmap(corr, mask=mask, cmap=cmap, vmax=.3, center=0, annot=True, annot_kws={\"size\": 12}, xticklabels=xticks,  yticklabels=xticks,\n",
    "            square=True, linewidths=.5, cbar=None)\n",
    "\n",
    "plt.xticks(fontsize = 12)\n",
    "plt.yticks(fontsize = 12)\n",
    "\n",
    "plt.savefig('heatmap_rep.pdf', bbox_inches=\"tight\")"
   ]
  },
  {
   "cell_type": "markdown",
   "metadata": {},
   "source": [
    "### Statistic for the ALL"
   ]
  },
  {
   "cell_type": "code",
   "execution_count": 563,
   "metadata": {},
   "outputs": [
    {
     "data": {
      "text/html": [
       "<div>\n",
       "<style scoped>\n",
       "    .dataframe tbody tr th:only-of-type {\n",
       "        vertical-align: middle;\n",
       "    }\n",
       "\n",
       "    .dataframe tbody tr th {\n",
       "        vertical-align: top;\n",
       "    }\n",
       "\n",
       "    .dataframe thead th {\n",
       "        text-align: right;\n",
       "    }\n",
       "</style>\n",
       "<table border=\"1\" class=\"dataframe\">\n",
       "  <thead>\n",
       "    <tr style=\"text-align: right;\">\n",
       "      <th></th>\n",
       "      <th>agree_percent</th>\n",
       "      <th>same_gender</th>\n",
       "      <th>same_age</th>\n",
       "      <th>same_state</th>\n",
       "      <th>neighborState</th>\n",
       "      <th>distance</th>\n",
       "    </tr>\n",
       "  </thead>\n",
       "  <tbody>\n",
       "    <tr>\n",
       "      <th>count</th>\n",
       "      <td>111639.000000</td>\n",
       "      <td>111639.000000</td>\n",
       "      <td>111639.000000</td>\n",
       "      <td>111639.000000</td>\n",
       "      <td>111639.000000</td>\n",
       "      <td>111639.000000</td>\n",
       "    </tr>\n",
       "    <tr>\n",
       "      <th>mean</th>\n",
       "      <td>61.115036</td>\n",
       "      <td>0.682271</td>\n",
       "      <td>0.466432</td>\n",
       "      <td>0.043883</td>\n",
       "      <td>0.086403</td>\n",
       "      <td>19.832399</td>\n",
       "    </tr>\n",
       "    <tr>\n",
       "      <th>std</th>\n",
       "      <td>32.550931</td>\n",
       "      <td>0.465596</td>\n",
       "      <td>0.498874</td>\n",
       "      <td>0.204835</td>\n",
       "      <td>0.280960</td>\n",
       "      <td>14.101352</td>\n",
       "    </tr>\n",
       "    <tr>\n",
       "      <th>min</th>\n",
       "      <td>0.000000</td>\n",
       "      <td>0.000000</td>\n",
       "      <td>0.000000</td>\n",
       "      <td>0.000000</td>\n",
       "      <td>0.000000</td>\n",
       "      <td>0.030100</td>\n",
       "    </tr>\n",
       "    <tr>\n",
       "      <th>25%</th>\n",
       "      <td>27.860000</td>\n",
       "      <td>0.000000</td>\n",
       "      <td>0.000000</td>\n",
       "      <td>0.000000</td>\n",
       "      <td>0.000000</td>\n",
       "      <td>9.082732</td>\n",
       "    </tr>\n",
       "    <tr>\n",
       "      <th>50%</th>\n",
       "      <td>62.000000</td>\n",
       "      <td>1.000000</td>\n",
       "      <td>0.000000</td>\n",
       "      <td>0.000000</td>\n",
       "      <td>0.000000</td>\n",
       "      <td>15.823905</td>\n",
       "    </tr>\n",
       "    <tr>\n",
       "      <th>75%</th>\n",
       "      <td>94.100000</td>\n",
       "      <td>1.000000</td>\n",
       "      <td>1.000000</td>\n",
       "      <td>0.000000</td>\n",
       "      <td>0.000000</td>\n",
       "      <td>29.215007</td>\n",
       "    </tr>\n",
       "    <tr>\n",
       "      <th>max</th>\n",
       "      <td>100.000000</td>\n",
       "      <td>1.000000</td>\n",
       "      <td>1.000000</td>\n",
       "      <td>1.000000</td>\n",
       "      <td>1.000000</td>\n",
       "      <td>92.022422</td>\n",
       "    </tr>\n",
       "  </tbody>\n",
       "</table>\n",
       "</div>"
      ],
      "text/plain": [
       "       agree_percent    same_gender       same_age     same_state  \\\n",
       "count  111639.000000  111639.000000  111639.000000  111639.000000   \n",
       "mean       61.115036       0.682271       0.466432       0.043883   \n",
       "std        32.550931       0.465596       0.498874       0.204835   \n",
       "min         0.000000       0.000000       0.000000       0.000000   \n",
       "25%        27.860000       0.000000       0.000000       0.000000   \n",
       "50%        62.000000       1.000000       0.000000       0.000000   \n",
       "75%        94.100000       1.000000       1.000000       0.000000   \n",
       "max       100.000000       1.000000       1.000000       1.000000   \n",
       "\n",
       "       neighborState       distance  \n",
       "count  111639.000000  111639.000000  \n",
       "mean        0.086403      19.832399  \n",
       "std         0.280960      14.101352  \n",
       "min         0.000000       0.030100  \n",
       "25%         0.000000       9.082732  \n",
       "50%         0.000000      15.823905  \n",
       "75%         0.000000      29.215007  \n",
       "max         1.000000      92.022422  "
      ]
     },
     "execution_count": 563,
     "metadata": {},
     "output_type": "execute_result"
    }
   ],
   "source": [
    "df_all_raw.describe()\n",
    "\n",
    "# With zero: 13,777\n",
    "#With out: 20.555\n",
    "# Number of zeroes: "
   ]
  },
  {
   "cell_type": "code",
   "execution_count": 393,
   "metadata": {},
   "outputs": [
    {
     "data": {
      "text/plain": [
       "111639"
      ]
     },
     "execution_count": 393,
     "metadata": {},
     "output_type": "execute_result"
    }
   ],
   "source": [
    "len(df_all_raw)"
   ]
  },
  {
   "cell_type": "code",
   "execution_count": 562,
   "metadata": {},
   "outputs": [
    {
     "data": {
      "image/png": "[encoded data removed]",
      "text/plain": [
       "<matplotlib.figure.Figure at 0x1f960579710>"
      ]
     },
     "metadata": {},
     "output_type": "display_data"
    }
   ],
   "source": [
    "# Generate a mask for the upper triangle\n",
    "corr = df_all.corr()\n",
    "mask = np.zeros_like(corr, dtype=np.bool)\n",
    "mask[np.triu_indices_from(mask)] = True\n",
    "\n",
    "# Set up the matplotlib figure\n",
    "f, ax = plt.subplots(figsize=(11, 9))\n",
    "\n",
    "# Generate a custom diverging colormap\n",
    "cmap = sns.diverging_palette(220, 10, as_cmap=True)\n",
    "\n",
    "xticks = ['Agree procent','Same gender', 'Same age', 'Same state', 'Neighbor state', 'Distance','Adamic', 'Jaccard']\n",
    "# Draw the heatmap with the mask and correct aspect ratio\n",
    "sns.heatmap(corr, mask=mask, cmap=cmap, vmax=.3, center=0, annot=True, annot_kws={\"size\": 12}, xticklabels=xticks,  yticklabels=xticks,\n",
    "            square=True, linewidths=.5, cbar=None)\n",
    "\n",
    "plt.xticks(fontsize = 12)\n",
    "plt.yticks(fontsize = 12)\n",
    "\n",
    "plt.savefig('heatmap_all.pdf', bbox_inches=\"tight\")"
   ]
  },
  {
   "cell_type": "markdown",
   "metadata": {},
   "source": [
    "# Prediction"
   ]
  },
  {
   "cell_type": "code",
   "execution_count": 395,
   "metadata": {},
   "outputs": [
    {
     "data": {
      "text/html": [
       "<div>\n",
       "<style scoped>\n",
       "    .dataframe tbody tr th:only-of-type {\n",
       "        vertical-align: middle;\n",
       "    }\n",
       "\n",
       "    .dataframe tbody tr th {\n",
       "        vertical-align: top;\n",
       "    }\n",
       "\n",
       "    .dataframe thead th {\n",
       "        text-align: right;\n",
       "    }\n",
       "</style>\n",
       "<table border=\"1\" class=\"dataframe\">\n",
       "  <thead>\n",
       "    <tr style=\"text-align: right;\">\n",
       "      <th></th>\n",
       "      <th>agree_percent</th>\n",
       "      <th>same_gender</th>\n",
       "      <th>same_age</th>\n",
       "      <th>same_state</th>\n",
       "      <th>neighborState</th>\n",
       "      <th>distance</th>\n",
       "      <th>ademic</th>\n",
       "      <th>jaccard</th>\n",
       "    </tr>\n",
       "  </thead>\n",
       "  <tbody>\n",
       "    <tr>\n",
       "      <th>135</th>\n",
       "      <td>94.76</td>\n",
       "      <td>1</td>\n",
       "      <td>0</td>\n",
       "      <td>0</td>\n",
       "      <td>0</td>\n",
       "      <td>24.256553</td>\n",
       "      <td>6.723549</td>\n",
       "      <td>0.190184</td>\n",
       "    </tr>\n",
       "    <tr>\n",
       "      <th>144</th>\n",
       "      <td>92.42</td>\n",
       "      <td>1</td>\n",
       "      <td>0</td>\n",
       "      <td>0</td>\n",
       "      <td>0</td>\n",
       "      <td>44.719594</td>\n",
       "      <td>1.527412</td>\n",
       "      <td>0.046053</td>\n",
       "    </tr>\n",
       "    <tr>\n",
       "      <th>147</th>\n",
       "      <td>93.66</td>\n",
       "      <td>1</td>\n",
       "      <td>0</td>\n",
       "      <td>1</td>\n",
       "      <td>0</td>\n",
       "      <td>1.554337</td>\n",
       "      <td>0.189098</td>\n",
       "      <td>0.006579</td>\n",
       "    </tr>\n",
       "    <tr>\n",
       "      <th>153</th>\n",
       "      <td>89.14</td>\n",
       "      <td>1</td>\n",
       "      <td>1</td>\n",
       "      <td>0</td>\n",
       "      <td>0</td>\n",
       "      <td>43.222027</td>\n",
       "      <td>15.072495</td>\n",
       "      <td>0.425000</td>\n",
       "    </tr>\n",
       "    <tr>\n",
       "      <th>156</th>\n",
       "      <td>93.95</td>\n",
       "      <td>1</td>\n",
       "      <td>1</td>\n",
       "      <td>0</td>\n",
       "      <td>0</td>\n",
       "      <td>26.963132</td>\n",
       "      <td>1.024994</td>\n",
       "      <td>0.031847</td>\n",
       "    </tr>\n",
       "  </tbody>\n",
       "</table>\n",
       "</div>"
      ],
      "text/plain": [
       "     agree_percent  same_gender  same_age  same_state  neighborState  \\\n",
       "135          94.76            1         0           0              0   \n",
       "144          92.42            1         0           0              0   \n",
       "147          93.66            1         0           1              0   \n",
       "153          89.14            1         1           0              0   \n",
       "156          93.95            1         1           0              0   \n",
       "\n",
       "      distance     ademic   jaccard  \n",
       "135  24.256553   6.723549  0.190184  \n",
       "144  44.719594   1.527412  0.046053  \n",
       "147   1.554337   0.189098  0.006579  \n",
       "153  43.222027  15.072495  0.425000  \n",
       "156  26.963132   1.024994  0.031847  "
      ]
     },
     "execution_count": 395,
     "metadata": {},
     "output_type": "execute_result"
    }
   ],
   "source": [
    "df_train_rep = df_rep.copy()\n",
    "df_train_dem = df_dem.copy()\n",
    "df_train_all = df_all.copy()\n",
    "\n",
    "df_train_rep.head()"
   ]
  },
  {
   "cell_type": "code",
   "execution_count": 277,
   "metadata": {},
   "outputs": [],
   "source": [
    "# # Rescaling the data\n",
    "# from sklearn.preprocessing import MinMaxScaler\n",
    "# scaler = MinMaxScaler()\n",
    "# df_train_rep[['agree_percent']] =scaler.fit_transform(df_train_rep[['agree_percent']])\n",
    "# df_train_dem[['agree_percent']] =scaler.fit_transform(df_train_dem[['agree_percent']])"
   ]
  },
  {
   "cell_type": "code",
   "execution_count": 441,
   "metadata": {},
   "outputs": [],
   "source": [
    "X_vars = df_train_dem.columns[1:]\n",
    "\n",
    "#Defining X and y for dem\n",
    "X_dem = df_train_dem[X_vars]\n",
    "y_dem = df_train_dem.agree_percent\n",
    "\n",
    "#Defining X and y for rep\n",
    "X_rep = df_train_rep[X_vars]\n",
    "y_rep = df_train_rep.agree_percent\n",
    "\n",
    "#Defining X and y for rep\n",
    "X_all = df_train_all[X_vars]\n",
    "y_all = df_train_all.agree_percent"
   ]
  },
  {
   "cell_type": "markdown",
   "metadata": {},
   "source": [
    "## Freature importance with random forrest"
   ]
  },
  {
   "cell_type": "code",
   "execution_count": 451,
   "metadata": {},
   "outputs": [
    {
     "name": "stdout",
     "output_type": "stream",
     "text": [
      "Feature ranking:\n",
      "1. distance (0.492917)\n",
      "2. jaccard (0.277466)\n",
      "3. ademic (0.164694)\n",
      "4. same_age (0.031431)\n",
      "5. neighborState (0.019179)\n",
      "6. same_state (0.011925)\n",
      "7. same_gender (0.002388)\n"
     ]
    }
   ],
   "source": [
    "clf_rf = RandomForestRegressor(max_depth=5, random_state=0)\n",
    "clf_rf.fit(X_dem, y_dem)\n",
    "\n",
    "importances = clf_rf.feature_importances_\n",
    "names = X_dem.columns\n",
    "indices = np.argsort(importances)[::-1]\n",
    "\n",
    "# Print the feature ranking\n",
    "print(\"Feature ranking:\")\n",
    "for f in range(X_dem.shape[1]):  \n",
    "    print(\"%d. %s (%f)\" % (f + 1, names[indices[f]], importances[indices[f]]))"
   ]
  },
  {
   "cell_type": "code",
   "execution_count": 453,
   "metadata": {},
   "outputs": [
    {
     "name": "stdout",
     "output_type": "stream",
     "text": [
      "Feature ranking:\n",
      "1. jaccard (0.393683)\n",
      "2. ademic (0.258071)\n",
      "3. distance (0.250092)\n",
      "4. same_age (0.076896)\n",
      "5. same_gender (0.013279)\n",
      "6. neighborState (0.007980)\n",
      "7. same_state (0.000000)\n"
     ]
    }
   ],
   "source": [
    "clf_rf.fit(X_rep, y_rep)\n",
    "\n",
    "importances = clf_rf.feature_importances_\n",
    "names = X_dem.columns\n",
    "indices = np.argsort(importances)[::-1]\n",
    "\n",
    "# Print the feature ranking\n",
    "print(\"Feature ranking:\")\n",
    "for f in range(X_dem.shape[1]):  \n",
    "    print(\"%d. %s (%f)\" % (f + 1, names[indices[f]], importances[indices[f]]))"
   ]
  },
  {
   "cell_type": "code",
   "execution_count": 455,
   "metadata": {},
   "outputs": [
    {
     "name": "stdout",
     "output_type": "stream",
     "text": [
      "Feature ranking:\n",
      "1. jaccard (0.813139)\n",
      "2. ademic (0.186521)\n",
      "3. same_state (0.000337)\n",
      "4. same_age (0.000003)\n",
      "5. distance (0.000000)\n",
      "6. neighborState (0.000000)\n",
      "7. same_gender (0.000000)\n"
     ]
    }
   ],
   "source": [
    "clf_rf.fit(X_all, y_all)\n",
    "\n",
    "importances = clf_rf.feature_importances_\n",
    "names = X_dem.columns\n",
    "indices = np.argsort(importances)[::-1]\n",
    "\n",
    "# Print the feature ranking\n",
    "print(\"Feature ranking:\")\n",
    "for f in range(X_dem.shape[1]):  \n",
    "    print(\"%d. %s (%f)\" % (f + 1, names[indices[f]], importances[indices[f]]))"
   ]
  },
  {
   "cell_type": "markdown",
   "metadata": {},
   "source": [
    "## Estimation with OLS"
   ]
  },
  {
   "cell_type": "code",
   "execution_count": 456,
   "metadata": {},
   "outputs": [],
   "source": [
    "df_rep_var = df_rep.drop(['ademic'], axis=1).copy()\n",
    "df_dem_var = df_dem.drop(['ademic'], axis=1).copy()\n",
    "df_all_var = df_all.drop(['ademic'], axis=1).copy()\n",
    "# df_rep_var = df_rep.drop(['jaccard'], axis=1).copy()\n",
    "# df_dem_var = df_dem.drop(['jaccard'], axis=1).copy()\n",
    "# df_all_var = df_all.drop(['jaccard'], axis=1).copy()\n",
    "df_rep_var['const']=1 \n",
    "df_dem_var['const']=1 \n",
    "df_all_var['const']=1 \n",
    "\n",
    "X_vars = df_rep_var.columns[1:]\n",
    "\n",
    "#Defining X and y for dem\n",
    "X_dem = df_dem_var[X_vars]\n",
    "y_dem = df_dem_var.agree_percent\n",
    "\n",
    "#Defining X and y for rep\n",
    "X_rep = df_rep_var[X_vars]\n",
    "y_rep = df_rep_var.agree_percent\n",
    "\n",
    "#Defining X and y for rep\n",
    "X_all = df_all_var[X_vars]\n",
    "y_all = df_all_var.agree_percent"
   ]
  },
  {
   "cell_type": "code",
   "execution_count": 457,
   "metadata": {},
   "outputs": [
    {
     "name": "stdout",
     "output_type": "stream",
     "text": [
      "                            OLS Regression Results                            \n",
      "==============================================================================\n",
      "Dep. Variable:          agree_percent   R-squared:                       0.015\n",
      "Model:                            OLS   Adj. R-squared:                  0.014\n",
      "Method:                 Least Squares   F-statistic:                     19.54\n",
      "Date:                Fri, 25 May 2018   Prob (F-statistic):           9.33e-23\n",
      "Time:                        13:33:15   Log-Likelihood:                -21212.\n",
      "No. Observations:                7865   AIC:                         4.244e+04\n",
      "Df Residuals:                    7858   BIC:                         4.249e+04\n",
      "Df Model:                           6                                         \n",
      "Covariance Type:            nonrobust                                         \n",
      "=================================================================================\n",
      "                    coef    std err          t      P>|t|      [0.025      0.975]\n",
      "---------------------------------------------------------------------------------\n",
      "same_gender      -0.1687      0.082     -2.051      0.040      -0.330      -0.007\n",
      "same_age          0.1510      0.082      1.842      0.066      -0.010       0.312\n",
      "same_state        0.4088      0.225      1.818      0.069      -0.032       0.850\n",
      "neighborState    -0.0078      0.152     -0.051      0.959      -0.305       0.290\n",
      "distance         -0.0011      0.003     -0.429      0.668      -0.006       0.004\n",
      "jaccard           3.0988      0.312      9.922      0.000       2.487       3.711\n",
      "const            92.0845      0.130    709.483      0.000      91.830      92.339\n",
      "==============================================================================\n",
      "Omnibus:                     2627.828   Durbin-Watson:                   1.241\n",
      "Prob(Omnibus):                  0.000   Jarque-Bera (JB):             8434.933\n",
      "Skew:                          -1.719   Prob(JB):                         0.00\n",
      "Kurtosis:                       6.731   Cond. No.                         249.\n",
      "==============================================================================\n",
      "\n",
      "Warnings:\n",
      "[1] Standard Errors assume that the covariance matrix of the errors is correctly specified.\n"
     ]
    }
   ],
   "source": [
    "# Results for democrats\n",
    "results = sm.OLS(y_dem, X_dem).fit()\n",
    "print(results.summary())\n",
    "\n",
    "# Jaccard not significant :("
   ]
  },
  {
   "cell_type": "code",
   "execution_count": 458,
   "metadata": {},
   "outputs": [
    {
     "name": "stdout",
     "output_type": "stream",
     "text": [
      "                            OLS Regression Results                            \n",
      "==============================================================================\n",
      "Dep. Variable:          agree_percent   R-squared:                       0.007\n",
      "Model:                            OLS   Adj. R-squared:                  0.007\n",
      "Method:                 Least Squares   F-statistic:                     16.82\n",
      "Date:                Fri, 25 May 2018   Prob (F-statistic):           1.93e-19\n",
      "Time:                        13:33:20   Log-Likelihood:                -40185.\n",
      "No. Observations:               13777   AIC:                         8.038e+04\n",
      "Df Residuals:                   13770   BIC:                         8.044e+04\n",
      "Df Model:                           6                                         \n",
      "Covariance Type:            nonrobust                                         \n",
      "=================================================================================\n",
      "                    coef    std err          t      P>|t|      [0.025      0.975]\n",
      "---------------------------------------------------------------------------------\n",
      "same_gender      -0.2800      0.106     -2.637      0.008      -0.488      -0.072\n",
      "same_age          0.6314      0.076      8.281      0.000       0.482       0.781\n",
      "same_state        0.5506      0.349      1.579      0.114      -0.133       1.234\n",
      "neighborState     0.2641      0.134      1.969      0.049       0.001       0.527\n",
      "distance         -0.0103      0.004     -2.441      0.015      -0.019      -0.002\n",
      "jaccard           0.7088      0.310      2.286      0.022       0.101       1.316\n",
      "const            92.7208      0.144    645.336      0.000      92.439      93.002\n",
      "==============================================================================\n",
      "Omnibus:                    10821.646   Durbin-Watson:                   1.225\n",
      "Prob(Omnibus):                  0.000   Jarque-Bera (JB):           330607.399\n",
      "Skew:                          -3.557   Prob(JB):                         0.00\n",
      "Kurtosis:                      25.920   Cond. No.                         172.\n",
      "==============================================================================\n",
      "\n",
      "Warnings:\n",
      "[1] Standard Errors assume that the covariance matrix of the errors is correctly specified.\n"
     ]
    }
   ],
   "source": [
    "# Results for democrats\n",
    "results = sm.OLS(y_rep, X_rep).fit()\n",
    "print(results.summary())\n",
    "\n",
    "# Jaccard not significant :("
   ]
  },
  {
   "cell_type": "code",
   "execution_count": 459,
   "metadata": {},
   "outputs": [
    {
     "name": "stdout",
     "output_type": "stream",
     "text": [
      "                            OLS Regression Results                            \n",
      "==============================================================================\n",
      "Dep. Variable:          agree_percent   R-squared:                       0.483\n",
      "Model:                            OLS   Adj. R-squared:                  0.483\n",
      "Method:                 Least Squares   F-statistic:                 1.092e+04\n",
      "Date:                Fri, 25 May 2018   Prob (F-statistic):               0.00\n",
      "Time:                        13:33:26   Log-Likelihood:            -3.1978e+05\n",
      "No. Observations:               70208   AIC:                         6.396e+05\n",
      "Df Residuals:                   70201   BIC:                         6.396e+05\n",
      "Df Model:                           6                                         \n",
      "Covariance Type:            nonrobust                                         \n",
      "=================================================================================\n",
      "                    coef    std err          t      P>|t|      [0.025      0.975]\n",
      "---------------------------------------------------------------------------------\n",
      "same_gender       5.2278      0.187     27.909      0.000       4.861       5.595\n",
      "same_age          0.3810      0.174      2.188      0.029       0.040       0.722\n",
      "same_state       -3.8194      0.543     -7.028      0.000      -4.885      -2.754\n",
      "neighborState     2.8895      0.336      8.592      0.000       2.230       3.549\n",
      "distance         -0.0076      0.007     -1.100      0.271      -0.021       0.006\n",
      "jaccard         205.9962      0.819    251.659      0.000     204.392     207.601\n",
      "const            33.3028      0.255    130.776      0.000      32.804      33.802\n",
      "==============================================================================\n",
      "Omnibus:                     7391.404   Durbin-Watson:                   1.650\n",
      "Prob(Omnibus):                  0.000   Jarque-Bera (JB):            10037.523\n",
      "Skew:                           0.926   Prob(JB):                         0.00\n",
      "Kurtosis:                       2.987   Cond. No.                         232.\n",
      "==============================================================================\n",
      "\n",
      "Warnings:\n",
      "[1] Standard Errors assume that the covariance matrix of the errors is correctly specified.\n"
     ]
    }
   ],
   "source": [
    "# Results for ALL\n",
    "results = sm.OLS(y_all, X_all).fit()\n",
    "print(results.summary())\n",
    "\n",
    "# Jaccard not significant :("
   ]
  },
  {
   "cell_type": "markdown",
   "metadata": {},
   "source": [
    "# Prediction with binary variable"
   ]
  },
  {
   "cell_type": "code",
   "execution_count": 460,
   "metadata": {},
   "outputs": [
    {
     "data": {
      "text/html": [
       "<div>\n",
       "<style scoped>\n",
       "    .dataframe tbody tr th:only-of-type {\n",
       "        vertical-align: middle;\n",
       "    }\n",
       "\n",
       "    .dataframe tbody tr th {\n",
       "        vertical-align: top;\n",
       "    }\n",
       "\n",
       "    .dataframe thead th {\n",
       "        text-align: right;\n",
       "    }\n",
       "</style>\n",
       "<table border=\"1\" class=\"dataframe\">\n",
       "  <thead>\n",
       "    <tr style=\"text-align: right;\">\n",
       "      <th></th>\n",
       "      <th>agree_percent</th>\n",
       "      <th>same_gender</th>\n",
       "      <th>same_age</th>\n",
       "      <th>same_state</th>\n",
       "      <th>neighborState</th>\n",
       "      <th>distance</th>\n",
       "      <th>jaccard</th>\n",
       "    </tr>\n",
       "  </thead>\n",
       "  <tbody>\n",
       "    <tr>\n",
       "      <th>0</th>\n",
       "      <td>1</td>\n",
       "      <td>1</td>\n",
       "      <td>0</td>\n",
       "      <td>0</td>\n",
       "      <td>0</td>\n",
       "      <td>50.126964</td>\n",
       "      <td>0.329545</td>\n",
       "    </tr>\n",
       "    <tr>\n",
       "      <th>13</th>\n",
       "      <td>1</td>\n",
       "      <td>0</td>\n",
       "      <td>1</td>\n",
       "      <td>0</td>\n",
       "      <td>0</td>\n",
       "      <td>21.329847</td>\n",
       "      <td>0.358696</td>\n",
       "    </tr>\n",
       "    <tr>\n",
       "      <th>23</th>\n",
       "      <td>1</td>\n",
       "      <td>0</td>\n",
       "      <td>0</td>\n",
       "      <td>0</td>\n",
       "      <td>0</td>\n",
       "      <td>49.268000</td>\n",
       "      <td>0.260274</td>\n",
       "    </tr>\n",
       "    <tr>\n",
       "      <th>26</th>\n",
       "      <td>0</td>\n",
       "      <td>0</td>\n",
       "      <td>0</td>\n",
       "      <td>0</td>\n",
       "      <td>0</td>\n",
       "      <td>45.702193</td>\n",
       "      <td>0.220930</td>\n",
       "    </tr>\n",
       "    <tr>\n",
       "      <th>29</th>\n",
       "      <td>1</td>\n",
       "      <td>1</td>\n",
       "      <td>0</td>\n",
       "      <td>0</td>\n",
       "      <td>0</td>\n",
       "      <td>50.007473</td>\n",
       "      <td>0.065574</td>\n",
       "    </tr>\n",
       "  </tbody>\n",
       "</table>\n",
       "</div>"
      ],
      "text/plain": [
       "    agree_percent  same_gender  same_age  same_state  neighborState  \\\n",
       "0               1            1         0           0              0   \n",
       "13              1            0         1           0              0   \n",
       "23              1            0         0           0              0   \n",
       "26              0            0         0           0              0   \n",
       "29              1            1         0           0              0   \n",
       "\n",
       "     distance   jaccard  \n",
       "0   50.126964  0.329545  \n",
       "13  21.329847  0.358696  \n",
       "23  49.268000  0.260274  \n",
       "26  45.702193  0.220930  \n",
       "29  50.007473  0.065574  "
      ]
     },
     "execution_count": 460,
     "metadata": {},
     "output_type": "execute_result"
    }
   ],
   "source": [
    "df_rep_bi = df_rep.copy()\n",
    "df_dem_bi = df_dem.copy()\n",
    "df_all_bi = df_all.copy()\n",
    "\n",
    "df_dem_bi['agree_percent'] = np.where(df_dem_bi.agree_percent>93.82,1,0) # Over median\n",
    "df_rep_bi['agree_percent'] = np.where(df_rep_bi.agree_percent>93.87,1,0) # Over median\n",
    "df_all_bi['agree_percent'] = np.where(df_all_bi.agree_percent>54.8,1,0) # Over median\n",
    "\n",
    "df_dem_bi = df_dem_bi.drop(['ademic'], axis=1)\n",
    "df_rep_bi = df_rep_bi.drop(['ademic'], axis=1)\n",
    "df_all_bi = df_all_bi.drop(['ademic'], axis=1)\n",
    "\n",
    "# df_dem_bi = df_dem_bi.drop(['jaccard'], axis=1)\n",
    "# df_rep_bi = df_rep_bi.drop(['jaccard'], axis=1)\n",
    "# df_all_bi = df_all_bi.drop(['jaccard'], axis=1)\n",
    "\n",
    "df_dem_bi.head()"
   ]
  },
  {
   "cell_type": "code",
   "execution_count": 461,
   "metadata": {},
   "outputs": [
    {
     "name": "stdout",
     "output_type": "stream",
     "text": [
      "6313 1552\n",
      "11026 2751\n",
      "56166 14042\n"
     ]
    }
   ],
   "source": [
    "msk_dem = np.random.rand(len(df_dem_bi)) < 0.8\n",
    "train_dem = df_dem_bi[msk_dem]\n",
    "test_dem = df_dem_bi[~msk_dem]\n",
    "print(len(train_dem), len(test_dem))\n",
    "\n",
    "msk_rep = np.random.rand(len(df_rep_bi)) < 0.8\n",
    "train_rep = df_rep_bi[msk_rep]\n",
    "test_rep = df_rep_bi[~msk_rep]\n",
    "print(len(train_rep), len(test_rep))\n",
    "\n",
    "msk_all = np.random.rand(len(df_all_bi)) < 0.8\n",
    "train_all = df_all_bi[msk_all]\n",
    "test_all = df_all_bi[~msk_all]\n",
    "print(len(train_all), len(test_all))"
   ]
  },
  {
   "cell_type": "code",
   "execution_count": 462,
   "metadata": {},
   "outputs": [],
   "source": [
    "X_vars = train_dem.columns[1:7]\n",
    "\n",
    "#Democrats\n",
    "X_train_dem = train_dem[X_vars]\n",
    "y_train_dem = train_dem.agree_percent\n",
    "\n",
    "X_test_dem = test_dem[X_vars]\n",
    "y_test_dem = test_dem.agree_percent\n",
    "\n",
    "#Republicans\n",
    "X_train_rep = train_rep[X_vars]\n",
    "y_train_rep = train_rep.agree_percent\n",
    "\n",
    "X_test_rep = test_rep[X_vars]\n",
    "y_test_rep = test_rep.agree_percent\n",
    "\n",
    "#all\n",
    "X_train_all = train_all[X_vars]\n",
    "y_train_all = train_all.agree_percent\n",
    "\n",
    "X_test_all = test_all[X_vars]\n",
    "y_test_all = test_all.agree_percent"
   ]
  },
  {
   "cell_type": "markdown",
   "metadata": {},
   "source": [
    "### Democrats"
   ]
  },
  {
   "cell_type": "code",
   "execution_count": 551,
   "metadata": {},
   "outputs": [
    {
     "name": "stdout",
     "output_type": "stream",
     "text": [
      "confusion matrix: \n",
      "           0         1\n",
      "0  0.770142  0.274011\n",
      "1  0.592417  0.293785\n",
      "Accuracy: 0.5740979381443299\n"
     ]
    }
   ],
   "source": [
    "# Logistic regression on democrats\n",
    "clf_lg = LogisticRegression().fit(X_train_dem, y_train_dem)\n",
    "pred_log = clf_lg.predict(X_test_dem)\n",
    "pred_proba_log = clf_lg.predict_proba(X_test_dem)[:,1]\n",
    "\n",
    "matrix = metrics.confusion_matrix(y_test_dem,pred_log)\n",
    "matrix = matrix/matrix.sum(axis=1) # divide by row counts\n",
    "\n",
    "print(\"confusion matrix:\",'\\n', pd.DataFrame(matrix))\n",
    "print(\"Accuracy:\",metrics.accuracy_score(y_test_dem,pred_dem))"
   ]
  },
  {
   "cell_type": "code",
   "execution_count": 552,
   "metadata": {},
   "outputs": [
    {
     "name": "stdout",
     "output_type": "stream",
     "text": [
      "confusion matrix: \n",
      "           0         1\n",
      "0  0.715640  0.338983\n",
      "1  0.498815  0.405367\n",
      "Accuracy : 0.5740979381443299\n"
     ]
    }
   ],
   "source": [
    "# random forrest on democratss\n",
    "from sklearn.ensemble import RandomForestClassifier\n",
    "clf_rf = RandomForestClassifier(max_depth=5, random_state=0).fit(X_train_dem, y_train_dem)\n",
    "pred_rf = clf_rf.predict(X_test_dem)\n",
    "pred_proba_rf = clf_rf.predict_proba(X_test_dem)[:,1]\n",
    "\n",
    "matrix = metrics.confusion_matrix(y_test_dem,pred_rf)\n",
    "matrix = matrix/matrix.sum(axis=1) # divide by row counts\n",
    "\n",
    "print(\"confusion matrix:\",'\\n', pd.DataFrame(matrix))\n",
    "print(\"Accuracy :\",metrics.accuracy_score(y_test_dem,pred_dem))"
   ]
  },
  {
   "cell_type": "code",
   "execution_count": 553,
   "metadata": {},
   "outputs": [
    {
     "data": {
      "image/png": "[encoded data removed]",
      "text/plain": [
       "<matplotlib.figure.Figure at 0x1f95f5770b8>"
      ]
     },
     "metadata": {},
     "output_type": "display_data"
    }
   ],
   "source": [
    "#Logistic regression\n",
    "fpr1, tpr1, thresholds1 = metrics.roc_curve(y_test_dem, pred_proba_log)\n",
    "auc1 = round(metrics.roc_auc_score(y_test_dem, pred_proba_log), 3)\n",
    "\n",
    "#Random forrest\n",
    "fpr2, tpr2, thresholds2 = metrics.roc_curve(y_test_dem, pred_proba_rf)\n",
    "auc2 = round(metrics.roc_auc_score(y_test_dem, pred_proba_rf), 3)\n",
    "\n",
    "plt.figure(figsize=[8,8])\n",
    "\n",
    "plt.plot(fpr1, tpr1, label = \"Logistic regression\")\n",
    "plt.plot(fpr2, tpr2, label = \"Random forest\")\n",
    "\n",
    "\n",
    "plt.text(0.3,0.1,\"Logistic regression AUC = \" + str(auc1), fontsize = 12)\n",
    "plt.text(0.3,0.15,\"Random forest AUC = \" + str(auc2), fontsize = 12)\n",
    "\n",
    "plt.plot(np.arange(0, 1.1, 0.1), np.arange(0, 1.1, 0.1), linestyle = \"dashed\", color = \"orange\")\n",
    "\n",
    "plt.xlim([-0.1, 1.1])\n",
    "plt.ylim([-0.1, 1.1])\n",
    "#plt.title('ROC curve', fontsize = 18)\n",
    "plt.xlabel('False Positive Rate', fontsize = 12)\n",
    "plt.ylabel('True Positive Rate', fontsize = 12)\n",
    "plt.grid(True)\n",
    "\n",
    "plt.legend()\n",
    "sns.despine(left=True, bottom= True)\n",
    "\n",
    "plt.savefig('roc_dem.pdf', bbox_inches=\"tight\")\n",
    "\n",
    "plt.show()\n",
    "\n"
   ]
  },
  {
   "cell_type": "markdown",
   "metadata": {},
   "source": [
    "### Republicans"
   ]
  },
  {
   "cell_type": "code",
   "execution_count": 554,
   "metadata": {},
   "outputs": [
    {
     "name": "stdout",
     "output_type": "stream",
     "text": [
      "confusion matrix:  \n",
      "           0         1\n",
      "0  0.811245  0.224344\n",
      "1  0.616466  0.267303\n",
      "Accuracy nltk: 0.5627044711014176\n"
     ]
    }
   ],
   "source": [
    "# Logistic regression on republicans\n",
    "clf_lg = LogisticRegression().fit(X_train_rep, y_train_rep)\n",
    "pred_log = clf_lg.predict(X_test_rep)\n",
    "pred_proba_log = clf_lg.predict_proba(X_test_rep)[:,1]\n",
    "\n",
    "matrix = metrics.confusion_matrix(y_test_rep,pred_rep)\n",
    "matrix = matrix/matrix.sum(axis=1) # divide by row counts\n",
    "\n",
    "print(\"confusion matrix: \",'\\n', pd.DataFrame(matrix))\n",
    "print(\"Accuracy nltk:\",metrics.accuracy_score(y_test_rep,pred_rep))"
   ]
  },
  {
   "cell_type": "code",
   "execution_count": 555,
   "metadata": {},
   "outputs": [
    {
     "name": "stdout",
     "output_type": "stream",
     "text": [
      "confusion matrix: \n",
      "           0         1\n",
      "0  0.811245  0.224344\n",
      "1  0.616466  0.267303\n",
      "Accuracy: 0.5627044711014176\n"
     ]
    }
   ],
   "source": [
    "# random forrest on repocratss\n",
    "clf_rf = RandomForestClassifier(max_depth=5, random_state=0).fit(X_train_rep, y_train_rep)\n",
    "pred_rf = clf_rf.predict(X_test_rep)\n",
    "pred_proba_rf = clf_rf.predict_proba(X_test_rep)[:,1]\n",
    "\n",
    "matrix = metrics.confusion_matrix(y_test_rep,pred_rep)\n",
    "matrix = matrix/matrix.sum(axis=1) # divide by row counts\n",
    "\n",
    "print(\"confusion matrix:\",'\\n', pd.DataFrame(matrix))\n",
    "print(\"Accuracy:\",metrics.accuracy_score(y_test_rep,pred_rep))"
   ]
  },
  {
   "cell_type": "code",
   "execution_count": 556,
   "metadata": {},
   "outputs": [
    {
     "data": {
      "image/png": "[encoded data removed]",
      "text/plain": [
       "<matplotlib.figure.Figure at 0x1f95f4b0080>"
      ]
     },
     "metadata": {},
     "output_type": "display_data"
    }
   ],
   "source": [
    "#Logistic regression\n",
    "fpr1, tpr1, thresholds1 = metrics.roc_curve(y_test_rep, pred_proba_log)\n",
    "auc1 = round(metrics.roc_auc_score(y_test_rep, pred_proba_log), 3)\n",
    "\n",
    "#Random forrest\n",
    "fpr2, tpr2, thresholds2 = metrics.roc_curve(y_test_rep, pred_proba_rf)\n",
    "auc2 = round(metrics.roc_auc_score(y_test_rep, pred_proba_rf), 3)\n",
    "\n",
    "plt.figure(figsize=[8,8])\n",
    "\n",
    "plt.plot(fpr1, tpr1, label = \"Logistic Regression\")\n",
    "plt.plot(fpr2, tpr2, label = \"Random Forest\")\n",
    "\n",
    "\n",
    "plt.text(0.3,0.1,\"Logistic regression AUC = \" + str(auc1), fontsize = 12)\n",
    "plt.text(0.3,0.15,\"Random forest AUC = \" + str(auc2), fontsize = 12)\n",
    "\n",
    "plt.plot(np.arange(0, 1.1, 0.1), np.arange(0, 1.1, 0.1), linestyle = \"dashed\", color = \"orange\")\n",
    "\n",
    "plt.xlim([-0.1, 1.1])\n",
    "plt.ylim([-0.1, 1.1])\n",
    "#plt.title('ROC curve', fontsize = 18)\n",
    "plt.xlabel('False Positive Rate', fontsize = 12)\n",
    "plt.ylabel('True Positive Rate', fontsize = 12)\n",
    "plt.grid(True)\n",
    "\n",
    "plt.legend()\n",
    "sns.despine(left=True, bottom= True)\n",
    "\n",
    "\n",
    "plt.savefig('roc_rep.pdf', bbox_inches=\"tight\")\n",
    "\n",
    "plt.show()"
   ]
  },
  {
   "cell_type": "markdown",
   "metadata": {},
   "source": [
    "### ALL"
   ]
  },
  {
   "cell_type": "code",
   "execution_count": 557,
   "metadata": {},
   "outputs": [
    {
     "name": "stdout",
     "output_type": "stream",
     "text": [
      "confusion matrix: \n",
      "           0         1\n",
      "0  0.926518  0.108853\n",
      "1  0.099487  0.852624\n",
      "Accuracy: 0.896738356359493\n"
     ]
    }
   ],
   "source": [
    "# Logistic regression on all\n",
    "clf_lg = LogisticRegression().fit(X_train_all, y_train_all)\n",
    "pred_log = clf_lg.predict(X_test_all)\n",
    "pred_proba_log = clf_lg.predict_proba(X_test_all)[:,1]\n",
    "\n",
    "matrix = metrics.confusion_matrix(y_test_all,pred_all)\n",
    "matrix = matrix/matrix.sum(axis=1) # divide by row counts\n",
    "\n",
    "print(\"confusion matrix:\",'\\n', pd.DataFrame(matrix))\n",
    "print(\"Accuracy:\",metrics.accuracy_score(y_test_all,pred_all))"
   ]
  },
  {
   "cell_type": "code",
   "execution_count": 558,
   "metadata": {},
   "outputs": [
    {
     "name": "stdout",
     "output_type": "stream",
     "text": [
      "confusion matrix: \n",
      "           0         1\n",
      "0  0.926518  0.108853\n",
      "1  0.099487  0.852624\n",
      "Accuracy: 0.896738356359493\n"
     ]
    }
   ],
   "source": [
    "# random forrest on allocratss\n",
    "clf_rf = RandomForestClassifier(n_estimators=100, random_state=0).fit(X_train_all, y_train_all)\n",
    "pred_rf = clf_rf.predict(X_test_all)\n",
    "pred_proba_rf = clf_rf.predict_proba(X_test_all)[:,1]\n",
    "\n",
    "matrix = metrics.confusion_matrix(y_test_all,pred_all)\n",
    "matrix = matrix/matrix.sum(axis=1) # divide by row counts\n",
    "\n",
    "print(\"confusion matrix:\",'\\n', pd.DataFrame(matrix))\n",
    "print(\"Accuracy:\",metrics.accuracy_score(y_test_all,pred_all))"
   ]
  },
  {
   "cell_type": "code",
   "execution_count": 559,
   "metadata": {},
   "outputs": [
    {
     "data": {
      "image/png": "[encoded data removed]",
      "text/plain": [
       "<matplotlib.figure.Figure at 0x1f960f5a208>"
      ]
     },
     "metadata": {},
     "output_type": "display_data"
    }
   ],
   "source": [
    "#Logistic regression\n",
    "fpr1, tpr1, thresholds1 = metrics.roc_curve(y_test_all, pred_proba_log)\n",
    "auc1 = round(metrics.roc_auc_score(y_test_all, pred_proba_log), 3)\n",
    "\n",
    "#Random forrest\n",
    "fpr2, tpr2, thresholds2 = metrics.roc_curve(y_test_all, pred_proba_rf)\n",
    "auc2 = round(metrics.roc_auc_score(y_test_all, pred_proba_rf), 3)\n",
    "\n",
    "plt.figure(figsize=[8,8])\n",
    "\n",
    "plt.plot(fpr1, tpr1, label = \"Logistic Regression\")\n",
    "plt.plot(fpr2, tpr2, label = \"Random Forest\")\n",
    "\n",
    "\n",
    "plt.text(0.3,0.1,\"Logistic regression AUC = \" + str(auc1), fontsize = 12)\n",
    "plt.text(0.3,0.15,\"Random forest AUC = \" + str(auc2), fontsize = 12)\n",
    "\n",
    "plt.plot(np.arange(0, 1.1, 0.1), np.arange(0, 1.1, 0.1), linestyle = \"dashed\", color = \"orange\")\n",
    "\n",
    "plt.xlim([-0.1, 1.1])\n",
    "plt.ylim([-0.1, 1.1])\n",
    "#plt.title('ROC curve', fontsize = 18)\n",
    "plt.xlabel('False Positive Rate', fontsize = 12)\n",
    "plt.ylabel('True Positive Rate', fontsize = 12)\n",
    "plt.grid(True)\n",
    "\n",
    "plt.legend()\n",
    "sns.despine(left=True, bottom= True)\n",
    "\n",
    "plt.savefig('roc_all.pdf', bbox_inches=\"tight\")\n",
    "\n",
    "plt.show()"
   ]
  }
 ],
 "metadata": {
  "kernelspec": {
   "display_name": "Python 3",
   "language": "python",
   "name": "python3"
  },
  "language_info": {
   "codemirror_mode": {
    "name": "ipython",
    "version": 3
   },
   "file_extension": ".py",
   "mimetype": "text/x-python",
   "name": "python",
   "nbconvert_exporter": "python",
   "pygments_lexer": "ipython3",
   "version": "3.6.5"
  }
 },
 "nbformat": 4,
 "nbformat_minor": 2
}
