{
 "cells": [
  {
   "cell_type": "markdown",
   "metadata": {},
   "source": [
    "# District distances\n",
    "\n",
    "**Procedure**\n",
    "1. create a DF of the congress with\n",
    "    1. all twitter id pairs \n",
    "    2. all district pairs\n",
    "2. use geopandas to calculate distance between districts"
   ]
  },
  {
   "cell_type": "code",
   "execution_count": 10,
   "metadata": {
    "collapsed": true
   },
   "outputs": [],
   "source": [
    "import pandas as pd\n",
    "from congress import Congress\n",
    "import numpy as np"
   ]
  },
  {
   "cell_type": "code",
   "execution_count": 11,
   "metadata": {
    "collapsed": true
   },
   "outputs": [],
   "source": [
    "congress = Congress('qa1qfTzGinGGLcNCbinp2OTlI2SvzBe4KFgxYobm')"
   ]
  },
  {
   "cell_type": "markdown",
   "metadata": {},
   "source": [
    "### Load the congress data into DF"
   ]
  },
  {
   "cell_type": "code",
   "execution_count": 12,
   "metadata": {
    "collapsed": true
   },
   "outputs": [],
   "source": [
    "#load the congress data\n",
    "df_house = pd.DataFrame(congress.members.filter('house', congress=115)[0]['members'])"
   ]
  },
  {
   "cell_type": "code",
   "execution_count": 13,
   "metadata": {
    "collapsed": true
   },
   "outputs": [],
   "source": [
    "#drop rows if twitter_account == None\n",
    "house_twonly = df_house.dropna(subset=['twitter_account'])\n",
    "#drop those who are not in office anymore\n",
    "house_twonly = house_twonly[house_twonly.in_office].reset_index(drop=True)"
   ]
  },
  {
   "cell_type": "markdown",
   "metadata": {},
   "source": [
    "### Create pairs for each congresswomen"
   ]
  },
  {
   "cell_type": "markdown",
   "metadata": {},
   "source": [
    "- for each member a (1 row), take another member b and add her information (with concat)"
   ]
  },
  {
   "cell_type": "code",
   "execution_count": 14,
   "metadata": {},
   "outputs": [],
   "source": [
    "lastcol = house_twonly.shape[0]\n",
    "member_pairs = pd.DataFrame()\n",
    "df_list = []\n",
    "\n",
    "for i in range(lastcol):\n",
    "    mem = pd.DataFrame([house_twonly.iloc[i,:]]*(lastcol)).reset_index(drop=True) #create df with member i \n",
    "    mem = pd.concat([mem, house_twonly], axis=1) #merge member and others\n",
    "    mem = mem.drop(mem.index[i]).reset_index(drop=True) #remove relf-reference\n",
    "    df_list.append(mem) #store in list containing dataframes\n",
    "    \n",
    "#merge them all together\n",
    "member_pairs = pd.concat(df_list) "
   ]
  },
  {
   "cell_type": "code",
   "execution_count": 15,
   "metadata": {
    "collapsed": true
   },
   "outputs": [],
   "source": [
    "member_pairs = member_pairs.reset_index(drop=True)"
   ]
  },
  {
   "cell_type": "code",
   "execution_count": 16,
   "metadata": {},
   "outputs": [
    {
     "data": {
      "text/html": [
       "<div>\n",
       "<style scoped>\n",
       "    .dataframe tbody tr th:only-of-type {\n",
       "        vertical-align: middle;\n",
       "    }\n",
       "\n",
       "    .dataframe tbody tr th {\n",
       "        vertical-align: top;\n",
       "    }\n",
       "\n",
       "    .dataframe thead th {\n",
       "        text-align: right;\n",
       "    }\n",
       "</style>\n",
       "<table border=\"1\" class=\"dataframe\">\n",
       "  <thead>\n",
       "    <tr style=\"text-align: right;\">\n",
       "      <th></th>\n",
       "      <th>twitter_account</th>\n",
       "      <th>twitter_account</th>\n",
       "    </tr>\n",
       "  </thead>\n",
       "  <tbody>\n",
       "    <tr>\n",
       "      <th>178503</th>\n",
       "      <td>RepLeeZeldin</td>\n",
       "      <td>RepTedYoho</td>\n",
       "    </tr>\n",
       "    <tr>\n",
       "      <th>178504</th>\n",
       "      <td>RepLeeZeldin</td>\n",
       "      <td>RepDavidYoung</td>\n",
       "    </tr>\n",
       "    <tr>\n",
       "      <th>178505</th>\n",
       "      <td>RepLeeZeldin</td>\n",
       "      <td>RepDonYoung</td>\n",
       "    </tr>\n",
       "  </tbody>\n",
       "</table>\n",
       "</div>"
      ],
      "text/plain": [
       "       twitter_account twitter_account\n",
       "178503    RepLeeZeldin      RepTedYoho\n",
       "178504    RepLeeZeldin   RepDavidYoung\n",
       "178505    RepLeeZeldin     RepDonYoung"
      ]
     },
     "execution_count": 16,
     "metadata": {},
     "output_type": "execute_result"
    }
   ],
   "source": [
    "member_pairs.twitter_account.tail(3)"
   ]
  },
  {
   "cell_type": "code",
   "execution_count": 17,
   "metadata": {
    "collapsed": true
   },
   "outputs": [],
   "source": [
    "member_pairs.to_csv('member_pairs.csv')"
   ]
  },
  {
   "cell_type": "markdown",
   "metadata": {},
   "source": [
    "### Load voting districts into geopandas"
   ]
  },
  {
   "cell_type": "code",
   "execution_count": 1,
   "metadata": {
    "collapsed": true
   },
   "outputs": [],
   "source": [
    "import json\n",
    "import os\n",
    "import requests\n",
    "\n",
    "import numpy as np\n",
    "import pandas as pd\n",
    "import matplotlib.pyplot as plt\n",
    "import seaborn as sns\n",
    "\n",
    "%matplotlib inline\n",
    "\n",
    "# spatial stuff\n",
    "import geopandas as gpd\n",
    "import fiona\n",
    "import folium\n",
    "import shapely"
   ]
  },
  {
   "cell_type": "markdown",
   "metadata": {},
   "source": [
    "- shapefiles from https://www.census.gov/geo/maps-data/data/cbf/cbf_cds.html"
   ]
  },
  {
   "cell_type": "code",
   "execution_count": 2,
   "metadata": {},
   "outputs": [
    {
     "data": {
      "text/plain": [
       "'C:\\\\Users\\\\Philipp\\\\GDrive\\\\Coding\\\\Python\\\\SocialDataScience\\\\Project_tsds\\\\Philipp'"
      ]
     },
     "execution_count": 2,
     "metadata": {},
     "output_type": "execute_result"
    }
   ],
   "source": [
    "#os.chdir(\"..\\\")\n",
    "os.getcwd()"
   ]
  },
  {
   "cell_type": "code",
   "execution_count": 3,
   "metadata": {},
   "outputs": [],
   "source": [
    "ppath = 'C:/Users/Philipp/GDrive/Coding/Python/SocialDataScience/Project_tsds/rawdata/congress_disticts2017_500k/'\n",
    "districts = gpd.read_file(ppath+'cb_2017_us_cd115_500k.shp')"
   ]
  },
  {
   "cell_type": "code",
   "execution_count": 4,
   "metadata": {
    "scrolled": true
   },
   "outputs": [
    {
     "data": {
      "text/html": [
       "<div>\n",
       "<style scoped>\n",
       "    .dataframe tbody tr th:only-of-type {\n",
       "        vertical-align: middle;\n",
       "    }\n",
       "\n",
       "    .dataframe tbody tr th {\n",
       "        vertical-align: top;\n",
       "    }\n",
       "\n",
       "    .dataframe thead th {\n",
       "        text-align: right;\n",
       "    }\n",
       "</style>\n",
       "<table border=\"1\" class=\"dataframe\">\n",
       "  <thead>\n",
       "    <tr style=\"text-align: right;\">\n",
       "      <th></th>\n",
       "      <th>STATEFP</th>\n",
       "      <th>CD115FP</th>\n",
       "      <th>AFFGEOID</th>\n",
       "      <th>GEOID</th>\n",
       "      <th>LSAD</th>\n",
       "      <th>CDSESSN</th>\n",
       "      <th>ALAND</th>\n",
       "      <th>AWATER</th>\n",
       "      <th>geometry</th>\n",
       "    </tr>\n",
       "  </thead>\n",
       "  <tbody>\n",
       "    <tr>\n",
       "      <th>0</th>\n",
       "      <td>13</td>\n",
       "      <td>09</td>\n",
       "      <td>5001500US1309</td>\n",
       "      <td>1309</td>\n",
       "      <td>C2</td>\n",
       "      <td>115</td>\n",
       "      <td>13497964615</td>\n",
       "      <td>411754565</td>\n",
       "      <td>POLYGON ((-84.65622499999999 34.730984, -84.65...</td>\n",
       "    </tr>\n",
       "    <tr>\n",
       "      <th>1</th>\n",
       "      <td>19</td>\n",
       "      <td>04</td>\n",
       "      <td>5001500US1904</td>\n",
       "      <td>1904</td>\n",
       "      <td>C2</td>\n",
       "      <td>115</td>\n",
       "      <td>58937921470</td>\n",
       "      <td>264842664</td>\n",
       "      <td>POLYGON ((-96.63970399999999 42.737071, -96.63...</td>\n",
       "    </tr>\n",
       "    <tr>\n",
       "      <th>2</th>\n",
       "      <td>17</td>\n",
       "      <td>10</td>\n",
       "      <td>5001500US1710</td>\n",
       "      <td>1710</td>\n",
       "      <td>C2</td>\n",
       "      <td>115</td>\n",
       "      <td>777307694</td>\n",
       "      <td>31695461</td>\n",
       "      <td>POLYGON ((-88.19882 42.41557, -88.198601 42.41...</td>\n",
       "    </tr>\n",
       "  </tbody>\n",
       "</table>\n",
       "</div>"
      ],
      "text/plain": [
       "  STATEFP CD115FP       AFFGEOID GEOID LSAD CDSESSN        ALAND     AWATER  \\\n",
       "0      13      09  5001500US1309  1309   C2     115  13497964615  411754565   \n",
       "1      19      04  5001500US1904  1904   C2     115  58937921470  264842664   \n",
       "2      17      10  5001500US1710  1710   C2     115    777307694   31695461   \n",
       "\n",
       "                                            geometry  \n",
       "0  POLYGON ((-84.65622499999999 34.730984, -84.65...  \n",
       "1  POLYGON ((-96.63970399999999 42.737071, -96.63...  \n",
       "2  POLYGON ((-88.19882 42.41557, -88.198601 42.41...  "
      ]
     },
     "execution_count": 4,
     "metadata": {},
     "output_type": "execute_result"
    }
   ],
   "source": [
    "districts.head(3)\n",
    "#GEOID or STATEFP gives congressional districts"
   ]
  },
  {
   "cell_type": "markdown",
   "metadata": {
    "collapsed": true
   },
   "source": [
    "### Match districts via geoid "
   ]
  },
  {
   "cell_type": "code",
   "execution_count": 5,
   "metadata": {},
   "outputs": [],
   "source": [
    "#generate centroids\n",
    "def get_centroids(x):\n",
    "    return x.centroid\n",
    "\n",
    "districts['centroids'] = districts.geometry.apply(get_centroids)"
   ]
  },
  {
   "cell_type": "code",
   "execution_count": 6,
   "metadata": {},
   "outputs": [
    {
     "data": {
      "text/plain": [
       "13.634726788599925"
      ]
     },
     "execution_count": 6,
     "metadata": {},
     "output_type": "execute_result"
    }
   ],
   "source": [
    "districts.centroids[0].distance(districts.centroids[1])"
   ]
  },
  {
   "cell_type": "code",
   "execution_count": 7,
   "metadata": {},
   "outputs": [
    {
     "data": {
      "text/plain": [
       "10.771112182700213"
      ]
     },
     "execution_count": 7,
     "metadata": {},
     "output_type": "execute_result"
    }
   ],
   "source": [
    "districts.geometry[0].distance(districts.geometry[1])"
   ]
  },
  {
   "cell_type": "markdown",
   "metadata": {},
   "source": [
    ">Do we better use centroids or polygons to calculate distances?"
   ]
  },
  {
   "cell_type": "markdown",
   "metadata": {},
   "source": [
    "1. load data\n",
    "1. take geoid of member A and member B\n",
    "    1. there are two columns of geoid, the first is the reference member and the second all other matched members\n",
    "2. insert centroids\n",
    "2. calculate distances of centroids"
   ]
  },
  {
   "cell_type": "code",
   "execution_count": 83,
   "metadata": {
    "scrolled": true
   },
   "outputs": [
    {
     "data": {
      "text/plain": [
       "0    POINT (-117.3060329020225 40.64564001854976)\n",
       "Name: centroids, dtype: object"
      ]
     },
     "execution_count": 83,
     "metadata": {},
     "output_type": "execute_result"
    }
   ],
   "source": [
    "#how to select centroid\n",
    "districts[districts.GEOID == '3202'].centroids.reset_index(drop=True)"
   ]
  },
  {
   "cell_type": "markdown",
   "metadata": {},
   "source": [
    "> Insert centroids for member A and B"
   ]
  },
  {
   "cell_type": "code",
   "execution_count": 90,
   "metadata": {},
   "outputs": [],
   "source": [
    "def insert_geoinfo(gid):\n",
    "    #find geoinformation of A and of B in districts df, append to member_pairs df \n",
    "    geoinfo = districts[districts.GEOID == gid].centroids.reset_index(drop=True)\n",
    "    return geoinfo\n",
    "\n",
    "#df_list = [insert_geoinfo]\n",
    "\n",
    "member_pairs['geo_a'] = member_pairs.geoid.iloc[:,0].apply(insert_geoinfo) #reference member\n",
    "member_pairs['geo_b'] = member_pairs.geoid.iloc[:,1].apply(insert_geoinfo) #all other members"
   ]
  },
  {
   "cell_type": "code",
   "execution_count": 93,
   "metadata": {
    "scrolled": true
   },
   "outputs": [
    {
     "data": {
      "text/plain": [
       "178504    POINT (-72.67688914616767 40.90605078664418)\n",
       "178505    POINT (-72.67688914616767 40.90605078664418)\n",
       "Name: geo_a, dtype: object"
      ]
     },
     "execution_count": 93,
     "metadata": {},
     "output_type": "execute_result"
    }
   ],
   "source": [
    "member_pairs.geo_a[-2:]"
   ]
  },
  {
   "cell_type": "code",
   "execution_count": 94,
   "metadata": {
    "scrolled": true
   },
   "outputs": [
    {
     "data": {
      "text/plain": [
       "178504    POINT (-94.63734260563108 41.20393250776424)\n",
       "178505    POINT (-152.2211789507757 64.21754588435303)\n",
       "Name: geo_b, dtype: object"
      ]
     },
     "execution_count": 94,
     "metadata": {},
     "output_type": "execute_result"
    }
   ],
   "source": [
    "member_pairs.geo_b[-2:]"
   ]
  },
  {
   "cell_type": "code",
   "execution_count": 109,
   "metadata": {},
   "outputs": [],
   "source": [
    "#calculate distance between geo_a and geo_b (both centroids)\n",
    "def get_dist(centr_a, centr_b):\n",
    "    dist = centr_a.distance(centr_b)\n",
    "    return dist\n",
    "\n",
    "member_pairs['distance'] = member_pairs.apply(lambda x: get_dist(x.geo_a, x.geo_b), axis=1)"
   ]
  },
  {
   "cell_type": "code",
   "execution_count": 124,
   "metadata": {},
   "outputs": [],
   "source": [
    "member_pairs.to_csv('member_pairs_distances.csv')"
   ]
  },
  {
   "cell_type": "code",
   "execution_count": 130,
   "metadata": {},
   "outputs": [
    {
     "data": {
      "text/plain": [
       "0         11.516319\n",
       "1          5.188269\n",
       "2         25.635701\n",
       "3          9.625330\n",
       "4         26.983409\n",
       "5          9.507826\n",
       "6          2.903558\n",
       "7         10.407425\n",
       "8         11.428105\n",
       "9         17.873344\n",
       "10         9.907373\n",
       "11        26.496168\n",
       "12         4.871841\n",
       "13        26.634646\n",
       "14        12.082821\n",
       "15        30.150932\n",
       "16        15.093971\n",
       "17        16.279354\n",
       "18        19.951584\n",
       "19        10.015735\n",
       "20         7.413664\n",
       "21        13.435587\n",
       "22        21.554851\n",
       "23         7.494357\n",
       "24         5.559608\n",
       "25        10.757532\n",
       "26        33.294883\n",
       "27        17.849584\n",
       "28        34.411386\n",
       "29         6.666260\n",
       "            ...    \n",
       "178476    25.742207\n",
       "178477    28.273255\n",
       "178478     1.290382\n",
       "178479    14.491955\n",
       "178480    18.004862\n",
       "178481    11.715521\n",
       "178482    46.968461\n",
       "178483     8.376286\n",
       "178484    13.560138\n",
       "178485    45.566752\n",
       "178486    21.238326\n",
       "178487    16.681015\n",
       "178488    46.192155\n",
       "178489     1.968108\n",
       "178490    25.005443\n",
       "178491    15.395293\n",
       "178492     3.169168\n",
       "178493    11.050747\n",
       "178494    21.594680\n",
       "178495    26.837722\n",
       "178496    16.786280\n",
       "178497    11.334697\n",
       "178498     5.298615\n",
       "178499    21.488476\n",
       "178500    13.312290\n",
       "178501    13.298524\n",
       "178502    22.207186\n",
       "178503    14.626384\n",
       "178504    21.962474\n",
       "178505    82.889805\n",
       "Name: distance, Length: 178506, dtype: float64"
      ]
     },
     "execution_count": 130,
     "metadata": {},
     "output_type": "execute_result"
    }
   ],
   "source": [
    "member_pairs.distance"
   ]
  }
 ],
 "metadata": {
  "kernelspec": {
   "display_name": "Python 3",
   "language": "python",
   "name": "python3"
  },
  "language_info": {
   "codemirror_mode": {
    "name": "ipython",
    "version": 3
   },
   "file_extension": ".py",
   "mimetype": "text/x-python",
   "name": "python",
   "nbconvert_exporter": "python",
   "pygments_lexer": "ipython3",
   "version": "3.6.3"
  }
 },
 "nbformat": 4,
 "nbformat_minor": 2
}
