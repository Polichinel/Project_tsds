{
 "cells": [
  {
   "cell_type": "markdown",
   "metadata": {},
   "source": [
    "# District distances\n",
    "\n",
    "**Procedure**\n",
    "1. create a DF of the congress with\n",
    "    1. all twitter id pairs \n",
    "    2. all district pairs\n",
    "2. use geopandas to calculate distance between districts"
   ]
  },
  {
   "cell_type": "code",
   "execution_count": 10,
   "metadata": {
    "collapsed": true
   },
   "outputs": [],
   "source": [
    "import pandas as pd\n",
    "from congress import Congress\n",
    "import numpy as np"
   ]
  },
  {
   "cell_type": "code",
   "execution_count": 11,
   "metadata": {
    "collapsed": true
   },
   "outputs": [],
   "source": [
    "congress = Congress('qa1qfTzGinGGLcNCbinp2OTlI2SvzBe4KFgxYobm')"
   ]
  },
  {
   "cell_type": "markdown",
   "metadata": {},
   "source": [
    "### Load the congress data into DF"
   ]
  },
  {
   "cell_type": "code",
   "execution_count": 12,
   "metadata": {
    "collapsed": true
   },
   "outputs": [],
   "source": [
    "#load the congress data\n",
    "df_house = pd.DataFrame(congress.members.filter('house', congress=115)[0]['members'])"
   ]
  },
  {
   "cell_type": "code",
   "execution_count": 13,
   "metadata": {
    "collapsed": true
   },
   "outputs": [],
   "source": [
    "#drop rows if twitter_account == None\n",
    "house_twonly = df_house.dropna(subset=['twitter_account'])\n",
    "#drop those who are not in office anymore\n",
    "house_twonly = house_twonly[house_twonly.in_office].reset_index(drop=True)"
   ]
  },
  {
   "cell_type": "markdown",
   "metadata": {},
   "source": [
    "### Create pairs for each congresswomen"
   ]
  },
  {
   "cell_type": "markdown",
   "metadata": {},
   "source": [
    "- for each member a (1 row), take another member b and add her information (with concat)"
   ]
  },
  {
   "cell_type": "code",
   "execution_count": 14,
   "metadata": {
    "collapsed": true
   },
   "outputs": [],
   "source": [
    "lastcol = house_twonly.shape[0]\n",
    "member_pairs = pd.DataFrame()\n",
    "df_list = []\n",
    "\n",
    "for i in range(lastcol):\n",
    "    mem = pd.DataFrame([house_twonly.iloc[i,:]]*(lastcol)).reset_index(drop=True) #create df with member i \n",
    "    mem = pd.concat([mem, house_twonly], axis=1) #merge member and others\n",
    "    mem = mem.drop(mem.index[i]).reset_index(drop=True) #remove relf-reference\n",
    "    df_list.append(mem) #store in list containing dataframes\n",
    "    \n",
    "#merge them all together\n",
    "member_pairs = pd.concat(df_list) "
   ]
  },
  {
   "cell_type": "code",
   "execution_count": 15,
   "metadata": {
    "collapsed": true
   },
   "outputs": [],
   "source": [
    "member_pairs = member_pairs.reset_index(drop=True)"
   ]
  },
  {
   "cell_type": "code",
   "execution_count": 131,
   "metadata": {
    "scrolled": true
   },
   "outputs": [
    {
     "data": {
      "text/html": [
       "<div>\n",
       "<style scoped>\n",
       "    .dataframe tbody tr th:only-of-type {\n",
       "        vertical-align: middle;\n",
       "    }\n",
       "\n",
       "    .dataframe tbody tr th {\n",
       "        vertical-align: top;\n",
       "    }\n",
       "\n",
       "    .dataframe thead th {\n",
       "        text-align: right;\n",
       "    }\n",
       "</style>\n",
       "<table border=\"1\" class=\"dataframe\">\n",
       "  <thead>\n",
       "    <tr style=\"text-align: right;\">\n",
       "      <th></th>\n",
       "      <th>id</th>\n",
       "      <th>id</th>\n",
       "    </tr>\n",
       "  </thead>\n",
       "  <tbody>\n",
       "    <tr>\n",
       "      <th>178503</th>\n",
       "      <td>Z000017</td>\n",
       "      <td>Y000065</td>\n",
       "    </tr>\n",
       "    <tr>\n",
       "      <th>178504</th>\n",
       "      <td>Z000017</td>\n",
       "      <td>Y000066</td>\n",
       "    </tr>\n",
       "    <tr>\n",
       "      <th>178505</th>\n",
       "      <td>Z000017</td>\n",
       "      <td>Y000033</td>\n",
       "    </tr>\n",
       "  </tbody>\n",
       "</table>\n",
       "</div>"
      ],
      "text/plain": [
       "             id       id\n",
       "178503  Z000017  Y000065\n",
       "178504  Z000017  Y000066\n",
       "178505  Z000017  Y000033"
      ]
     },
     "execution_count": 131,
     "metadata": {},
     "output_type": "execute_result"
    }
   ],
   "source": [
    "member_pairs.id.tail(3)"
   ]
  },
  {
   "cell_type": "markdown",
   "metadata": {},
   "source": [
    "#### finally, drop duplicates"
   ]
  },
  {
   "cell_type": "code",
   "execution_count": 168,
   "metadata": {
    "collapsed": true
   },
   "outputs": [],
   "source": [
    "#use frozenset() to ignore order of tuples\n",
    "def create_idtuples(id_a, id_b):\n",
    "    pair = frozenset((id_a, id_b))\n",
    "    return pair"
   ]
  },
  {
   "cell_type": "code",
   "execution_count": 161,
   "metadata": {
    "collapsed": true
   },
   "outputs": [],
   "source": [
    "#assign id_a and _b for convenience\n",
    "member_pairs['id_a'] = member_pairs.id.iloc[:,0]\n",
    "member_pairs['id_b'] = member_pairs.id.iloc[:,1]"
   ]
  },
  {
   "cell_type": "code",
   "execution_count": 169,
   "metadata": {
    "collapsed": true
   },
   "outputs": [],
   "source": [
    "member_pairs['id_tuples'] = member_pairs.apply(lambda x: create_idtuples(x.id_a, x.id_b), axis=1)"
   ]
  },
  {
   "cell_type": "code",
   "execution_count": 170,
   "metadata": {},
   "outputs": [
    {
     "data": {
      "text/plain": [
       "0    (A000370, A000374)\n",
       "1    (A000374, A000055)\n",
       "2    (A000374, A000371)\n",
       "Name: id_tuples, dtype: object"
      ]
     },
     "execution_count": 170,
     "metadata": {},
     "output_type": "execute_result"
    }
   ],
   "source": [
    "member_pairs.id_tuples.head(3)"
   ]
  },
  {
   "cell_type": "code",
   "execution_count": 184,
   "metadata": {
    "collapsed": true
   },
   "outputs": [],
   "source": [
    "member_pairs= member_pairs.drop_duplicates('id_tuples')"
   ]
  },
  {
   "cell_type": "code",
   "execution_count": 186,
   "metadata": {},
   "outputs": [
    {
     "data": {
      "text/plain": [
       "(89253, 92)"
      ]
     },
     "execution_count": 186,
     "metadata": {},
     "output_type": "execute_result"
    }
   ],
   "source": [
    "member_pairs.shape"
   ]
  },
  {
   "cell_type": "markdown",
   "metadata": {},
   "source": [
    "### Load voting districts into geopandas"
   ]
  },
  {
   "cell_type": "code",
   "execution_count": 2,
   "metadata": {
    "collapsed": true
   },
   "outputs": [],
   "source": [
    "import json\n",
    "import os\n",
    "import requests\n",
    "\n",
    "import numpy as np\n",
    "import pandas as pd\n",
    "import matplotlib.pyplot as plt\n",
    "import seaborn as sns\n",
    "\n",
    "%matplotlib inline\n",
    "\n",
    "# spatial stuff\n",
    "import geopandas as gpd\n",
    "import fiona\n",
    "import folium\n",
    "import shapely"
   ]
  },
  {
   "cell_type": "markdown",
   "metadata": {},
   "source": [
    "- shapefiles from https://www.census.gov/geo/maps-data/data/cbf/cbf_cds.html"
   ]
  },
  {
   "cell_type": "code",
   "execution_count": 188,
   "metadata": {},
   "outputs": [
    {
     "data": {
      "text/plain": [
       "'C:\\\\Users\\\\Philipp\\\\GDrive\\\\Coding\\\\Python\\\\SocialDataScience\\\\Project_tsds\\\\Philipp'"
      ]
     },
     "execution_count": 188,
     "metadata": {},
     "output_type": "execute_result"
    }
   ],
   "source": [
    "#os.chdir(\"..\\\")\n",
    "os.getcwd()"
   ]
  },
  {
   "cell_type": "code",
   "execution_count": 189,
   "metadata": {
    "collapsed": true
   },
   "outputs": [],
   "source": [
    "ppath = 'C:/Users/Philipp/GDrive/Coding/Python/SocialDataScience/Project_tsds/rawdata/congress_disticts2017_500k/'\n",
    "districts = gpd.read_file(ppath+'cb_2017_us_cd115_500k.shp')"
   ]
  },
  {
   "cell_type": "code",
   "execution_count": 190,
   "metadata": {
    "scrolled": true
   },
   "outputs": [
    {
     "data": {
      "text/html": [
       "<div>\n",
       "<style scoped>\n",
       "    .dataframe tbody tr th:only-of-type {\n",
       "        vertical-align: middle;\n",
       "    }\n",
       "\n",
       "    .dataframe tbody tr th {\n",
       "        vertical-align: top;\n",
       "    }\n",
       "\n",
       "    .dataframe thead th {\n",
       "        text-align: right;\n",
       "    }\n",
       "</style>\n",
       "<table border=\"1\" class=\"dataframe\">\n",
       "  <thead>\n",
       "    <tr style=\"text-align: right;\">\n",
       "      <th></th>\n",
       "      <th>STATEFP</th>\n",
       "      <th>CD115FP</th>\n",
       "      <th>AFFGEOID</th>\n",
       "      <th>GEOID</th>\n",
       "      <th>LSAD</th>\n",
       "      <th>CDSESSN</th>\n",
       "      <th>ALAND</th>\n",
       "      <th>AWATER</th>\n",
       "      <th>geometry</th>\n",
       "    </tr>\n",
       "  </thead>\n",
       "  <tbody>\n",
       "    <tr>\n",
       "      <th>0</th>\n",
       "      <td>13</td>\n",
       "      <td>09</td>\n",
       "      <td>5001500US1309</td>\n",
       "      <td>1309</td>\n",
       "      <td>C2</td>\n",
       "      <td>115</td>\n",
       "      <td>13497964615</td>\n",
       "      <td>411754565</td>\n",
       "      <td>POLYGON ((-84.65622499999999 34.730984, -84.65...</td>\n",
       "    </tr>\n",
       "    <tr>\n",
       "      <th>1</th>\n",
       "      <td>19</td>\n",
       "      <td>04</td>\n",
       "      <td>5001500US1904</td>\n",
       "      <td>1904</td>\n",
       "      <td>C2</td>\n",
       "      <td>115</td>\n",
       "      <td>58937921470</td>\n",
       "      <td>264842664</td>\n",
       "      <td>POLYGON ((-96.63970399999999 42.737071, -96.63...</td>\n",
       "    </tr>\n",
       "    <tr>\n",
       "      <th>2</th>\n",
       "      <td>17</td>\n",
       "      <td>10</td>\n",
       "      <td>5001500US1710</td>\n",
       "      <td>1710</td>\n",
       "      <td>C2</td>\n",
       "      <td>115</td>\n",
       "      <td>777307694</td>\n",
       "      <td>31695461</td>\n",
       "      <td>POLYGON ((-88.19882 42.41557, -88.198601 42.41...</td>\n",
       "    </tr>\n",
       "  </tbody>\n",
       "</table>\n",
       "</div>"
      ],
      "text/plain": [
       "  STATEFP CD115FP       AFFGEOID GEOID LSAD CDSESSN        ALAND     AWATER  \\\n",
       "0      13      09  5001500US1309  1309   C2     115  13497964615  411754565   \n",
       "1      19      04  5001500US1904  1904   C2     115  58937921470  264842664   \n",
       "2      17      10  5001500US1710  1710   C2     115    777307694   31695461   \n",
       "\n",
       "                                            geometry  \n",
       "0  POLYGON ((-84.65622499999999 34.730984, -84.65...  \n",
       "1  POLYGON ((-96.63970399999999 42.737071, -96.63...  \n",
       "2  POLYGON ((-88.19882 42.41557, -88.198601 42.41...  "
      ]
     },
     "execution_count": 190,
     "metadata": {},
     "output_type": "execute_result"
    }
   ],
   "source": [
    "districts.head(3)\n",
    "#GEOID or STATEFP gives congressional districts"
   ]
  },
  {
   "cell_type": "markdown",
   "metadata": {
    "collapsed": true
   },
   "source": [
    "### Match districts via geoid "
   ]
  },
  {
   "cell_type": "code",
   "execution_count": 191,
   "metadata": {
    "collapsed": true
   },
   "outputs": [],
   "source": [
    "#generate centroids\n",
    "def get_centroids(x):\n",
    "    return x.centroid\n",
    "\n",
    "districts['centroids'] = districts.geometry.apply(get_centroids)"
   ]
  },
  {
   "cell_type": "code",
   "execution_count": 192,
   "metadata": {},
   "outputs": [
    {
     "data": {
      "text/plain": [
       "13.634726788599925"
      ]
     },
     "execution_count": 192,
     "metadata": {},
     "output_type": "execute_result"
    }
   ],
   "source": [
    "districts.centroids[0].distance(districts.centroids[1])"
   ]
  },
  {
   "cell_type": "code",
   "execution_count": 193,
   "metadata": {},
   "outputs": [
    {
     "data": {
      "text/plain": [
       "10.771112182700213"
      ]
     },
     "execution_count": 193,
     "metadata": {},
     "output_type": "execute_result"
    }
   ],
   "source": [
    "districts.geometry[0].distance(districts.geometry[1])"
   ]
  },
  {
   "cell_type": "markdown",
   "metadata": {},
   "source": [
    ">Do we better use centroids or polygons to calculate distances?"
   ]
  },
  {
   "cell_type": "markdown",
   "metadata": {},
   "source": [
    "1. load data\n",
    "1. take geoid of member A and member B\n",
    "    1. there are two columns of geoid, the first is the reference member and the second all other matched members\n",
    "2. insert centroids\n",
    "2. calculate distances of centroids"
   ]
  },
  {
   "cell_type": "code",
   "execution_count": 194,
   "metadata": {
    "scrolled": true
   },
   "outputs": [
    {
     "data": {
      "text/plain": [
       "0    POINT (-117.3060329020225 40.64564001854976)\n",
       "Name: centroids, dtype: object"
      ]
     },
     "execution_count": 194,
     "metadata": {},
     "output_type": "execute_result"
    }
   ],
   "source": [
    "#how to select centroid\n",
    "districts[districts.GEOID == '3202'].centroids.reset_index(drop=True)"
   ]
  },
  {
   "cell_type": "markdown",
   "metadata": {},
   "source": [
    "> Insert centroids for member A and B"
   ]
  },
  {
   "cell_type": "code",
   "execution_count": 195,
   "metadata": {},
   "outputs": [
    {
     "name": "stderr",
     "output_type": "stream",
     "text": [
      "C:\\Users\\Philipp\\Anaconda3\\lib\\site-packages\\ipykernel_launcher.py:8: SettingWithCopyWarning: \n",
      "A value is trying to be set on a copy of a slice from a DataFrame.\n",
      "Try using .loc[row_indexer,col_indexer] = value instead\n",
      "\n",
      "See the caveats in the documentation: http://pandas.pydata.org/pandas-docs/stable/indexing.html#indexing-view-versus-copy\n",
      "  \n",
      "C:\\Users\\Philipp\\Anaconda3\\lib\\site-packages\\ipykernel_launcher.py:9: SettingWithCopyWarning: \n",
      "A value is trying to be set on a copy of a slice from a DataFrame.\n",
      "Try using .loc[row_indexer,col_indexer] = value instead\n",
      "\n",
      "See the caveats in the documentation: http://pandas.pydata.org/pandas-docs/stable/indexing.html#indexing-view-versus-copy\n",
      "  if __name__ == '__main__':\n"
     ]
    }
   ],
   "source": [
    "def insert_geoinfo(gid):\n",
    "    #find geoinformation of A and of B in districts df, append to member_pairs df \n",
    "    geoinfo = districts[districts.GEOID == gid].centroids.reset_index(drop=True)\n",
    "    return geoinfo\n",
    "\n",
    "#df_list = [insert_geoinfo]\n",
    "\n",
    "member_pairs['geo_a'] = member_pairs.geoid.iloc[:,0].apply(insert_geoinfo) #reference member\n",
    "member_pairs['geo_b'] = member_pairs.geoid.iloc[:,1].apply(insert_geoinfo) #all other members"
   ]
  },
  {
   "cell_type": "code",
   "execution_count": 196,
   "metadata": {
    "scrolled": true
   },
   "outputs": [
    {
     "data": {
      "text/plain": [
       "177661    POINT (-94.63734260563108 41.20393250776424)\n",
       "178083    POINT (-152.2211789507757 64.21754588435303)\n",
       "Name: geo_a, dtype: object"
      ]
     },
     "execution_count": 196,
     "metadata": {},
     "output_type": "execute_result"
    }
   ],
   "source": [
    "member_pairs.geo_a[-2:]"
   ]
  },
  {
   "cell_type": "code",
   "execution_count": 197,
   "metadata": {
    "scrolled": false
   },
   "outputs": [
    {
     "data": {
      "text/plain": [
       "177661    POINT (-72.67688914616767 40.90605078664418)\n",
       "178083    POINT (-72.67688914616767 40.90605078664418)\n",
       "Name: geo_b, dtype: object"
      ]
     },
     "execution_count": 197,
     "metadata": {},
     "output_type": "execute_result"
    }
   ],
   "source": [
    "member_pairs.geo_b[-2:]"
   ]
  },
  {
   "cell_type": "code",
   "execution_count": 198,
   "metadata": {},
   "outputs": [
    {
     "name": "stderr",
     "output_type": "stream",
     "text": [
      "C:\\Users\\Philipp\\Anaconda3\\lib\\site-packages\\ipykernel_launcher.py:6: SettingWithCopyWarning: \n",
      "A value is trying to be set on a copy of a slice from a DataFrame.\n",
      "Try using .loc[row_indexer,col_indexer] = value instead\n",
      "\n",
      "See the caveats in the documentation: http://pandas.pydata.org/pandas-docs/stable/indexing.html#indexing-view-versus-copy\n",
      "  \n"
     ]
    }
   ],
   "source": [
    "#calculate distance between geo_a and geo_b (both centroids)\n",
    "def get_dist(centr_a, centr_b):\n",
    "    dist = centr_a.distance(centr_b)\n",
    "    return dist\n",
    "\n",
    "member_pairs['distance'] = member_pairs.apply(lambda x: get_dist(x.geo_a, x.geo_b), axis=1)"
   ]
  },
  {
   "cell_type": "code",
   "execution_count": 199,
   "metadata": {
    "collapsed": true
   },
   "outputs": [],
   "source": [
    "member_pairs.to_csv('member_pairs_distances.csv')"
   ]
  },
  {
   "cell_type": "code",
   "execution_count": 201,
   "metadata": {},
   "outputs": [
    {
     "data": {
      "text/plain": [
       "(89253, 92)"
      ]
     },
     "execution_count": 201,
     "metadata": {},
     "output_type": "execute_result"
    }
   ],
   "source": [
    "member_pairs.shape"
   ]
  },
  {
   "cell_type": "markdown",
   "metadata": {},
   "source": [
    "### 89253 is exactly all possible combinations of 423 members"
   ]
  },
  {
   "cell_type": "code",
   "execution_count": 1,
   "metadata": {
    "collapsed": true
   },
   "outputs": [
    {
     "ename": "NameError",
     "evalue": "name 'os' is not defined",
     "output_type": "error",
     "traceback": [
      "\u001b[1;31m---------------------------------------------------------------------------\u001b[0m",
      "\u001b[1;31mNameError\u001b[0m                                 Traceback (most recent call last)",
      "\u001b[1;32m<ipython-input-1-aeea9eb9866c>\u001b[0m in \u001b[0;36m<module>\u001b[1;34m()\u001b[0m\n\u001b[1;32m----> 1\u001b[1;33m \u001b[0mpath\u001b[0m \u001b[1;33m=\u001b[0m \u001b[0mos\u001b[0m\u001b[1;33m.\u001b[0m\u001b[0mgetcwd\u001b[0m\u001b[1;33m(\u001b[0m\u001b[1;33m)\u001b[0m\u001b[1;33m\u001b[0m\u001b[0m\n\u001b[0m\u001b[0;32m      2\u001b[0m \u001b[0mdf\u001b[0m \u001b[1;33m=\u001b[0m \u001b[0mpd\u001b[0m\u001b[1;33m.\u001b[0m\u001b[0mread_csv\u001b[0m\u001b[1;33m(\u001b[0m\u001b[0mpath\u001b[0m\u001b[1;33m+\u001b[0m\u001b[1;34m\"\\\\member_pairs_distances.csv\"\u001b[0m\u001b[1;33m)\u001b[0m\u001b[1;33m\u001b[0m\u001b[0m\n\u001b[0;32m      3\u001b[0m \u001b[0mdf\u001b[0m \u001b[1;33m=\u001b[0m \u001b[0mdf\u001b[0m\u001b[1;33m.\u001b[0m\u001b[0mreset_index\u001b[0m\u001b[1;33m(\u001b[0m\u001b[0mdrop\u001b[0m\u001b[1;33m=\u001b[0m\u001b[1;32mTrue\u001b[0m\u001b[1;33m)\u001b[0m\u001b[1;33m\u001b[0m\u001b[0m\n",
      "\u001b[1;31mNameError\u001b[0m: name 'os' is not defined"
     ]
    }
   ],
   "source": [
    "path = os.getcwd()\n",
    "df = pd.read_csv(path+\"\\\\member_pairs_distances.csv\")\n",
    "df = df.reset_index(drop=True)"
   ]
  },
  {
   "cell_type": "code",
   "execution_count": 28,
   "metadata": {
    "collapsed": true
   },
   "outputs": [
    {
     "name": "stdout",
     "output_type": "stream",
     "text": [
      "Index(['Unnamed: 0', 'api_uri', 'at_large', 'contact_form', 'crp_id',\n",
      "       'cspan_id', 'date_of_birth', 'district', 'dw_nominate',\n",
      "       'facebook_account', 'fax', 'fec_candidate_id', 'first_name', 'gender',\n",
      "       'geoid', 'google_entity_id', 'govtrack_id', 'icpsr_id', 'id',\n",
      "       'ideal_point', 'in_office', 'last_name', 'leadership_role',\n",
      "       'middle_name', 'missed_votes', 'missed_votes_pct', 'next_election',\n",
      "       'ocd_id', 'office', 'party', 'phone', 'rss_url', 'seniority',\n",
      "       'short_title', 'state', 'suffix', 'title', 'total_present',\n",
      "       'total_votes', 'twitter_account', 'url', 'votes_with_party_pct',\n",
      "       'votesmart_id', 'youtube_account', 'api_uri.1', 'at_large.1',\n",
      "       'contact_form.1', 'crp_id.1', 'cspan_id.1', 'date_of_birth.1',\n",
      "       'district.1', 'dw_nominate.1', 'facebook_account.1', 'fax.1',\n",
      "       'fec_candidate_id.1', 'first_name.1', 'gender.1', 'geoid.1',\n",
      "       'google_entity_id.1', 'govtrack_id.1', 'icpsr_id.1', 'id.1',\n",
      "       'ideal_point.1', 'in_office.1', 'last_name.1', 'leadership_role.1',\n",
      "       'middle_name.1', 'missed_votes.1', 'missed_votes_pct.1',\n",
      "       'next_election.1', 'ocd_id.1', 'office.1', 'party.1', 'phone.1',\n",
      "       'rss_url.1', 'seniority.1', 'short_title.1', 'state.1', 'suffix.1',\n",
      "       'title.1', 'total_present.1', 'total_votes.1', 'twitter_account.1',\n",
      "       'url.1', 'votes_with_party_pct.1', 'votesmart_id.1',\n",
      "       'youtube_account.1', 'geo_a', 'geo_b', 'distance', 'id_a', 'id_b',\n",
      "       'id_tuples'],\n",
      "      dtype='object')\n"
     ]
    }
   ],
   "source": [
    "print (df.columns)"
   ]
  },
  {
   "cell_type": "code",
   "execution_count": 29,
   "metadata": {
    "collapsed": true
   },
   "outputs": [],
   "source": [
    "df = df.filter(['id_a', 'id_b', 'twitter_account', 'twitter_account.1', 'distance'])"
   ]
  },
  {
   "cell_type": "code",
   "execution_count": 31,
   "metadata": {
    "collapsed": true
   },
   "outputs": [],
   "source": [
    "df = df.rename(index=str, columns={'twitter_account': 'twitter_account_a', 'twitter_account.1': 'twitter_account_b'})"
   ]
  },
  {
   "cell_type": "code",
   "execution_count": 32,
   "metadata": {},
   "outputs": [
    {
     "data": {
      "text/html": [
       "<div>\n",
       "<style scoped>\n",
       "    .dataframe tbody tr th:only-of-type {\n",
       "        vertical-align: middle;\n",
       "    }\n",
       "\n",
       "    .dataframe tbody tr th {\n",
       "        vertical-align: top;\n",
       "    }\n",
       "\n",
       "    .dataframe thead th {\n",
       "        text-align: right;\n",
       "    }\n",
       "</style>\n",
       "<table border=\"1\" class=\"dataframe\">\n",
       "  <thead>\n",
       "    <tr style=\"text-align: right;\">\n",
       "      <th></th>\n",
       "      <th>id_a</th>\n",
       "      <th>id_b</th>\n",
       "      <th>twitter_account_a</th>\n",
       "      <th>twitter_account_b</th>\n",
       "      <th>distance</th>\n",
       "    </tr>\n",
       "  </thead>\n",
       "  <tbody>\n",
       "    <tr>\n",
       "      <th>0</th>\n",
       "      <td>A000374</td>\n",
       "      <td>A000370</td>\n",
       "      <td>RepAbraham</td>\n",
       "      <td>RepAdams</td>\n",
       "      <td>11.516319</td>\n",
       "    </tr>\n",
       "    <tr>\n",
       "      <th>1</th>\n",
       "      <td>A000374</td>\n",
       "      <td>A000055</td>\n",
       "      <td>RepAbraham</td>\n",
       "      <td>Robert_Aderholt</td>\n",
       "      <td>5.188269</td>\n",
       "    </tr>\n",
       "    <tr>\n",
       "      <th>2</th>\n",
       "      <td>A000374</td>\n",
       "      <td>A000371</td>\n",
       "      <td>RepAbraham</td>\n",
       "      <td>reppeteaguilar</td>\n",
       "      <td>25.635701</td>\n",
       "    </tr>\n",
       "    <tr>\n",
       "      <th>3</th>\n",
       "      <td>A000374</td>\n",
       "      <td>A000372</td>\n",
       "      <td>RepAbraham</td>\n",
       "      <td>reprickallen</td>\n",
       "      <td>9.625330</td>\n",
       "    </tr>\n",
       "    <tr>\n",
       "      <th>4</th>\n",
       "      <td>A000374</td>\n",
       "      <td>A000369</td>\n",
       "      <td>RepAbraham</td>\n",
       "      <td>MarkAmodeiNV2</td>\n",
       "      <td>26.983409</td>\n",
       "    </tr>\n",
       "  </tbody>\n",
       "</table>\n",
       "</div>"
      ],
      "text/plain": [
       "      id_a     id_b twitter_account_a twitter_account_b   distance\n",
       "0  A000374  A000370        RepAbraham          RepAdams  11.516319\n",
       "1  A000374  A000055        RepAbraham   Robert_Aderholt   5.188269\n",
       "2  A000374  A000371        RepAbraham    reppeteaguilar  25.635701\n",
       "3  A000374  A000372        RepAbraham      reprickallen   9.625330\n",
       "4  A000374  A000369        RepAbraham     MarkAmodeiNV2  26.983409"
      ]
     },
     "execution_count": 32,
     "metadata": {},
     "output_type": "execute_result"
    }
   ],
   "source": [
    "df.head()"
   ]
  },
  {
   "cell_type": "code",
   "execution_count": 34,
   "metadata": {
    "collapsed": true
   },
   "outputs": [],
   "source": [
    "df.to_csv('member_pairs_distances_reduced.csv')"
   ]
  },
  {
   "cell_type": "markdown",
   "metadata": {},
   "source": [
    "## Mess around with centroids"
   ]
  },
  {
   "cell_type": "code",
   "execution_count": 69,
   "metadata": {},
   "outputs": [
    {
     "data": {
      "text/plain": [
       "Index(['Unnamed: 0', 'api_uri', 'at_large', 'contact_form', 'crp_id',\n",
       "       'cspan_id', 'date_of_birth', 'district', 'dw_nominate',\n",
       "       'facebook_account', 'fax', 'fec_candidate_id', 'first_name', 'gender',\n",
       "       'geoid', 'google_entity_id', 'govtrack_id', 'icpsr_id', 'id',\n",
       "       'ideal_point', 'in_office', 'last_name', 'leadership_role',\n",
       "       'middle_name', 'missed_votes', 'missed_votes_pct', 'next_election',\n",
       "       'ocd_id', 'office', 'party', 'phone', 'rss_url', 'seniority',\n",
       "       'short_title', 'state', 'suffix', 'title', 'total_present',\n",
       "       'total_votes', 'twitter_account', 'url', 'votes_with_party_pct',\n",
       "       'votesmart_id', 'youtube_account', 'api_uri.1', 'at_large.1',\n",
       "       'contact_form.1', 'crp_id.1', 'cspan_id.1', 'date_of_birth.1',\n",
       "       'district.1', 'dw_nominate.1', 'facebook_account.1', 'fax.1',\n",
       "       'fec_candidate_id.1', 'first_name.1', 'gender.1', 'geoid.1',\n",
       "       'google_entity_id.1', 'govtrack_id.1', 'icpsr_id.1', 'id.1',\n",
       "       'ideal_point.1', 'in_office.1', 'last_name.1', 'leadership_role.1',\n",
       "       'middle_name.1', 'missed_votes.1', 'missed_votes_pct.1',\n",
       "       'next_election.1', 'ocd_id.1', 'office.1', 'party.1', 'phone.1',\n",
       "       'rss_url.1', 'seniority.1', 'short_title.1', 'state.1', 'suffix.1',\n",
       "       'title.1', 'total_present.1', 'total_votes.1', 'twitter_account.1',\n",
       "       'url.1', 'votes_with_party_pct.1', 'votesmart_id.1',\n",
       "       'youtube_account.1', 'geo_a', 'geo_b', 'distance', 'id_a', 'id_b',\n",
       "       'id_tuples'],\n",
       "      dtype='object')"
      ]
     },
     "execution_count": 69,
     "metadata": {},
     "output_type": "execute_result"
    }
   ],
   "source": [
    "df.columns"
   ]
  },
  {
   "cell_type": "code",
   "execution_count": 67,
   "metadata": {},
   "outputs": [
    {
     "ename": "NameError",
     "evalue": "name 'districts' is not defined",
     "output_type": "error",
     "traceback": [
      "\u001b[1;31m---------------------------------------------------------------------------\u001b[0m",
      "\u001b[1;31mNameError\u001b[0m                                 Traceback (most recent call last)",
      "\u001b[1;32m<ipython-input-67-0dfab0cc6de1>\u001b[0m in \u001b[0;36m<module>\u001b[1;34m()\u001b[0m\n\u001b[1;32m----> 1\u001b[1;33m \u001b[0mdistricts\u001b[0m\u001b[1;33m\u001b[0m\u001b[0m\n\u001b[0m",
      "\u001b[1;31mNameError\u001b[0m: name 'districts' is not defined"
     ]
    }
   ],
   "source": [
    "districts"
   ]
  },
  {
   "cell_type": "code",
   "execution_count": 75,
   "metadata": {},
   "outputs": [
    {
     "ename": "KeyError",
     "evalue": "\"['POINT (-91.82491765269089 31.7677401747569)'\\n 'POINT (-91.82491765269089 31.7677401747569)'\\n 'POINT (-91.82491765269089 31.7677401747569)' ...\\n 'POINT (-94.63734260563108 41.20393250776424)'\\n 'POINT (-94.63734260563108 41.20393250776424)'\\n 'POINT (-152.2211789507757 64.21754588435303)'] not in index\"",
     "output_type": "error",
     "traceback": [
      "\u001b[1;31m---------------------------------------------------------------------------\u001b[0m",
      "\u001b[1;31mKeyError\u001b[0m                                  Traceback (most recent call last)",
      "\u001b[1;32m<ipython-input-75-5237684e6078>\u001b[0m in \u001b[0;36m<module>\u001b[1;34m()\u001b[0m\n\u001b[1;32m----> 1\u001b[1;33m \u001b[0mselect\u001b[0m \u001b[1;33m=\u001b[0m \u001b[0mdf\u001b[0m\u001b[1;33m[\u001b[0m\u001b[0mdf\u001b[0m\u001b[1;33m.\u001b[0m\u001b[0mgeo_a\u001b[0m\u001b[1;33m]\u001b[0m\u001b[1;33m\u001b[0m\u001b[0m\n\u001b[0m\u001b[0;32m      2\u001b[0m \u001b[0mselect\u001b[0m\u001b[1;33m.\u001b[0m\u001b[0mplot\u001b[0m\u001b[1;33m(\u001b[0m\u001b[0mmarkersize\u001b[0m\u001b[1;33m=\u001b[0m\u001b[1;36m5\u001b[0m\u001b[1;33m,\u001b[0m\u001b[0mfigsize\u001b[0m\u001b[1;33m=\u001b[0m\u001b[1;33m(\u001b[0m\u001b[1;36m10\u001b[0m\u001b[1;33m,\u001b[0m \u001b[1;36m10\u001b[0m\u001b[1;33m)\u001b[0m\u001b[1;33m,\u001b[0m \u001b[0malpha\u001b[0m\u001b[1;33m=\u001b[0m\u001b[1;36m.8\u001b[0m\u001b[1;33m)\u001b[0m\u001b[1;33m\u001b[0m\u001b[0m\n",
      "\u001b[1;32m~\\Anaconda3\\lib\\site-packages\\pandas\\core\\frame.py\u001b[0m in \u001b[0;36m__getitem__\u001b[1;34m(self, key)\u001b[0m\n\u001b[0;32m   2131\u001b[0m         \u001b[1;32mif\u001b[0m \u001b[0misinstance\u001b[0m\u001b[1;33m(\u001b[0m\u001b[0mkey\u001b[0m\u001b[1;33m,\u001b[0m \u001b[1;33m(\u001b[0m\u001b[0mSeries\u001b[0m\u001b[1;33m,\u001b[0m \u001b[0mnp\u001b[0m\u001b[1;33m.\u001b[0m\u001b[0mndarray\u001b[0m\u001b[1;33m,\u001b[0m \u001b[0mIndex\u001b[0m\u001b[1;33m,\u001b[0m \u001b[0mlist\u001b[0m\u001b[1;33m)\u001b[0m\u001b[1;33m)\u001b[0m\u001b[1;33m:\u001b[0m\u001b[1;33m\u001b[0m\u001b[0m\n\u001b[0;32m   2132\u001b[0m             \u001b[1;31m# either boolean or fancy integer index\u001b[0m\u001b[1;33m\u001b[0m\u001b[1;33m\u001b[0m\u001b[0m\n\u001b[1;32m-> 2133\u001b[1;33m             \u001b[1;32mreturn\u001b[0m \u001b[0mself\u001b[0m\u001b[1;33m.\u001b[0m\u001b[0m_getitem_array\u001b[0m\u001b[1;33m(\u001b[0m\u001b[0mkey\u001b[0m\u001b[1;33m)\u001b[0m\u001b[1;33m\u001b[0m\u001b[0m\n\u001b[0m\u001b[0;32m   2134\u001b[0m         \u001b[1;32melif\u001b[0m \u001b[0misinstance\u001b[0m\u001b[1;33m(\u001b[0m\u001b[0mkey\u001b[0m\u001b[1;33m,\u001b[0m \u001b[0mDataFrame\u001b[0m\u001b[1;33m)\u001b[0m\u001b[1;33m:\u001b[0m\u001b[1;33m\u001b[0m\u001b[0m\n\u001b[0;32m   2135\u001b[0m             \u001b[1;32mreturn\u001b[0m \u001b[0mself\u001b[0m\u001b[1;33m.\u001b[0m\u001b[0m_getitem_frame\u001b[0m\u001b[1;33m(\u001b[0m\u001b[0mkey\u001b[0m\u001b[1;33m)\u001b[0m\u001b[1;33m\u001b[0m\u001b[0m\n",
      "\u001b[1;32m~\\Anaconda3\\lib\\site-packages\\pandas\\core\\frame.py\u001b[0m in \u001b[0;36m_getitem_array\u001b[1;34m(self, key)\u001b[0m\n\u001b[0;32m   2175\u001b[0m             \u001b[1;32mreturn\u001b[0m \u001b[0mself\u001b[0m\u001b[1;33m.\u001b[0m\u001b[0m_take\u001b[0m\u001b[1;33m(\u001b[0m\u001b[0mindexer\u001b[0m\u001b[1;33m,\u001b[0m \u001b[0maxis\u001b[0m\u001b[1;33m=\u001b[0m\u001b[1;36m0\u001b[0m\u001b[1;33m,\u001b[0m \u001b[0mconvert\u001b[0m\u001b[1;33m=\u001b[0m\u001b[1;32mFalse\u001b[0m\u001b[1;33m)\u001b[0m\u001b[1;33m\u001b[0m\u001b[0m\n\u001b[0;32m   2176\u001b[0m         \u001b[1;32melse\u001b[0m\u001b[1;33m:\u001b[0m\u001b[1;33m\u001b[0m\u001b[0m\n\u001b[1;32m-> 2177\u001b[1;33m             \u001b[0mindexer\u001b[0m \u001b[1;33m=\u001b[0m \u001b[0mself\u001b[0m\u001b[1;33m.\u001b[0m\u001b[0mloc\u001b[0m\u001b[1;33m.\u001b[0m\u001b[0m_convert_to_indexer\u001b[0m\u001b[1;33m(\u001b[0m\u001b[0mkey\u001b[0m\u001b[1;33m,\u001b[0m \u001b[0maxis\u001b[0m\u001b[1;33m=\u001b[0m\u001b[1;36m1\u001b[0m\u001b[1;33m)\u001b[0m\u001b[1;33m\u001b[0m\u001b[0m\n\u001b[0m\u001b[0;32m   2178\u001b[0m             \u001b[1;32mreturn\u001b[0m \u001b[0mself\u001b[0m\u001b[1;33m.\u001b[0m\u001b[0m_take\u001b[0m\u001b[1;33m(\u001b[0m\u001b[0mindexer\u001b[0m\u001b[1;33m,\u001b[0m \u001b[0maxis\u001b[0m\u001b[1;33m=\u001b[0m\u001b[1;36m1\u001b[0m\u001b[1;33m,\u001b[0m \u001b[0mconvert\u001b[0m\u001b[1;33m=\u001b[0m\u001b[1;32mTrue\u001b[0m\u001b[1;33m)\u001b[0m\u001b[1;33m\u001b[0m\u001b[0m\n\u001b[0;32m   2179\u001b[0m \u001b[1;33m\u001b[0m\u001b[0m\n",
      "\u001b[1;32m~\\Anaconda3\\lib\\site-packages\\pandas\\core\\indexing.py\u001b[0m in \u001b[0;36m_convert_to_indexer\u001b[1;34m(self, obj, axis, is_setter)\u001b[0m\n\u001b[0;32m   1267\u001b[0m                 \u001b[1;32mif\u001b[0m \u001b[0mmask\u001b[0m\u001b[1;33m.\u001b[0m\u001b[0many\u001b[0m\u001b[1;33m(\u001b[0m\u001b[1;33m)\u001b[0m\u001b[1;33m:\u001b[0m\u001b[1;33m\u001b[0m\u001b[0m\n\u001b[0;32m   1268\u001b[0m                     raise KeyError('{mask} not in index'\n\u001b[1;32m-> 1269\u001b[1;33m                                    .format(mask=objarr[mask]))\n\u001b[0m\u001b[0;32m   1270\u001b[0m \u001b[1;33m\u001b[0m\u001b[0m\n\u001b[0;32m   1271\u001b[0m                 \u001b[1;32mreturn\u001b[0m \u001b[0m_values_from_object\u001b[0m\u001b[1;33m(\u001b[0m\u001b[0mindexer\u001b[0m\u001b[1;33m)\u001b[0m\u001b[1;33m\u001b[0m\u001b[0m\n",
      "\u001b[1;31mKeyError\u001b[0m: \"['POINT (-91.82491765269089 31.7677401747569)'\\n 'POINT (-91.82491765269089 31.7677401747569)'\\n 'POINT (-91.82491765269089 31.7677401747569)' ...\\n 'POINT (-94.63734260563108 41.20393250776424)'\\n 'POINT (-94.63734260563108 41.20393250776424)'\\n 'POINT (-152.2211789507757 64.21754588435303)'] not in index\""
     ]
    }
   ],
   "source": [
    "select = df[df.geo_a]\n",
    "select.plot(markersize=5,figsize=(10, 10), alpha=.8)"
   ]
  }
 ],
 "metadata": {
  "kernelspec": {
   "display_name": "Python 3",
   "language": "python",
   "name": "python3"
  },
  "language_info": {
   "codemirror_mode": {
    "name": "ipython",
    "version": 3
   },
   "file_extension": ".py",
   "mimetype": "text/x-python",
   "name": "python",
   "nbconvert_exporter": "python",
   "pygments_lexer": "ipython3",
   "version": "3.6.3"
  }
 },
 "nbformat": 4,
 "nbformat_minor": 2
}
