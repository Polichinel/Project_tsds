{
 "cells": [
  {
   "cell_type": "markdown",
   "metadata": {},
   "source": [
    "# Ideological Caucusses in congress\n",
    "### Democrats\n",
    "- Congressional Progressive Caucus (CPC) – liberal and progressive Democrats\n",
    "- New Democrat Coalition (NDC) – moderate and centrist Democrats\n",
    "- Blue Dog Coalition (BDC) – conservative Democrats\n",
    "- Blue Collar Caucus – Pro-labor and Anti-Globalization Democrats\n",
    "\n",
    "### Republicans\n",
    "- Tuesday Group (TG) – moderate Republicans\n",
    "- Republican Main Street Partnership (MSP) – another group of moderate Republicans\n",
    "- Republican Study Committee (RSC) – conservative Republicans\n",
    "- Liberty Caucus (LC) – libertarian Republicans\n",
    "- House Freedom Caucus (HFC) – a conservative caucus affiliated with the Tea Party movement"
   ]
  },
  {
   "cell_type": "markdown",
   "metadata": {},
   "source": [
    "## Scrape them Dem caucusses\n",
    "What they all have in common is, that they are displayed as a link in each of the articles. \n",
    ">1. extract all links from the pages\n",
    ">2. use Congress API to make a list with members of the current Congress\n",
    ">3. take only the names from (1) that are found in (2)"
   ]
  },
  {
   "cell_type": "code",
   "execution_count": 244,
   "metadata": {
    "collapsed": true
   },
   "outputs": [],
   "source": [
    "import wikipedia as wp\n",
    "import pandas as pd\n",
    "import regex as re\n",
    "from congress import Congress\n",
    "from bs4 import BeautifulSoup"
   ]
  },
  {
   "cell_type": "code",
   "execution_count": 245,
   "metadata": {
    "collapsed": true
   },
   "outputs": [],
   "source": [
    "congress = Congress('qa1qfTzGinGGLcNCbinp2OTlI2SvzBe4KFgxYobm')"
   ]
  },
  {
   "cell_type": "code",
   "execution_count": 260,
   "metadata": {
    "collapsed": true
   },
   "outputs": [
    {
     "data": {
      "text/plain": [
       "{'api_uri': 'https://api.propublica.org/congress/v1/members/A000374.json',\n",
       " 'at_large': False,\n",
       " 'contact_form': None,\n",
       " 'crp_id': 'N00036633',\n",
       " 'cspan_id': '76236',\n",
       " 'date_of_birth': '1954-09-16',\n",
       " 'district': '5',\n",
       " 'dw_nominate': 0.497,\n",
       " 'facebook_account': 'CongressmanRalphAbraham',\n",
       " 'fax': '202-225-5639',\n",
       " 'fec_candidate_id': 'H4LA05221',\n",
       " 'first_name': 'Ralph',\n",
       " 'gender': 'M',\n",
       " 'geoid': '2205',\n",
       " 'google_entity_id': '/m/012dwd7_',\n",
       " 'govtrack_id': '412630',\n",
       " 'icpsr_id': '21522',\n",
       " 'id': 'A000374',\n",
       " 'ideal_point': None,\n",
       " 'in_office': True,\n",
       " 'last_name': 'Abraham',\n",
       " 'leadership_role': None,\n",
       " 'middle_name': None,\n",
       " 'missed_votes': 8,\n",
       " 'missed_votes_pct': 0.9,\n",
       " 'next_election': '2018',\n",
       " 'ocd_id': 'ocd-division/country:us/state:la/cd:5',\n",
       " 'office': '417 Cannon House Office Building',\n",
       " 'party': 'R',\n",
       " 'phone': '202-225-8490',\n",
       " 'rss_url': 'https://abraham.house.gov/rss.xml',\n",
       " 'seniority': '4',\n",
       " 'short_title': 'Rep.',\n",
       " 'state': 'LA',\n",
       " 'suffix': None,\n",
       " 'title': 'Representative',\n",
       " 'total_present': 0,\n",
       " 'total_votes': 889,\n",
       " 'twitter_account': 'RepAbraham',\n",
       " 'url': 'https://abraham.house.gov',\n",
       " 'votes_with_party_pct': 97.05,\n",
       " 'votesmart_id': '155414',\n",
       " 'youtube_account': None}"
      ]
     },
     "execution_count": 260,
     "metadata": {},
     "output_type": "execute_result"
    }
   ],
   "source": [
    "congress.members.filter('house', congress=115,)[0]['members'][0]"
   ]
  },
  {
   "cell_type": "code",
   "execution_count": 270,
   "metadata": {},
   "outputs": [],
   "source": [
    "def get_names(congress_number):\n",
    "    memberlist = congress.members.filter('house', congress=congress_number,)[0]['members']\n",
    "    namelist = [] \n",
    "    name_part = ['first_name', 'middle_name', 'last_name']\n",
    "    name_fragment = \"\"\n",
    "    for m in memberlist:  \n",
    "        #skip if not in office \n",
    "        if m['in_office'] == False: \n",
    "            continue\n",
    "        else:\n",
    "            for n in name_part:\n",
    "                if m[n] == None: #catch nones\n",
    "                    name_fragment += \"\"\n",
    "                elif n != 'last_name': #add space, except after last_name\n",
    "                    name_fragment += m[n]+\" \"\n",
    "                else: #no space after last_name\n",
    "                    name_fragment += m[n]\n",
    "            namelist.append(name_fragment)\n",
    "            name_fragment = \"\" #reset temp variable name_fragment\n",
    "    return namelist"
   ]
  },
  {
   "cell_type": "code",
   "execution_count": 275,
   "metadata": {},
   "outputs": [],
   "source": [
    "#all members of the 115 congress\n",
    "members_of_115 = get_names(115)"
   ]
  },
  {
   "cell_type": "code",
   "execution_count": 291,
   "metadata": {
    "collapsed": true
   },
   "outputs": [],
   "source": [
    "#these are exactly the titles of the Wikipedia articles\n",
    "wiki_dem_caucus = ['Congressional Progressive Caucus', \n",
    "                   'New Democrat Coalition', \n",
    "                   'List of members of the Blue Dog Coalition', \n",
    "                   'Blue Collar Caucus']"
   ]
  },
  {
   "cell_type": "code",
   "execution_count": 292,
   "metadata": {
    "collapsed": true
   },
   "outputs": [],
   "source": [
    "def caucus_members(caucus, namelist):\n",
    "    #get all links from the website 'caucus'\n",
    "    page = wp.page(caucus)\n",
    "    soup = BeautifulSoup(page.html(), 'lxml')\n",
    "    rawlinks = soup.find_all('a') #to retrieve all links\n",
    "    linktexts = [li.text for li in rawlinks] #save link texts into list\n",
    "    #get intersection of linktexts and namelist to have all caucus members extracted that serve currently\n",
    "    setlinks = set(linktexts)\n",
    "    setnames = set(namelist)\n",
    "    current_serve = setnames.intersection(setlinks)\n",
    "    return current_serve"
   ]
  },
  {
   "cell_type": "code",
   "execution_count": 295,
   "metadata": {},
   "outputs": [],
   "source": [
    "dem_caucus_dict = {cauc: caucus_members(cauc, members_of_115) for cauc in wiki_dem_caucus}"
   ]
  },
  {
   "cell_type": "code",
   "execution_count": 298,
   "metadata": {},
   "outputs": [
    {
     "data": {
      "text/plain": [
       "{'Blue Collar Caucus': {'Alan Lowenthal',\n",
       "  'Bonnie Watson Coleman',\n",
       "  'Brendan Boyle',\n",
       "  'Brian Higgins',\n",
       "  'Carol Shea-Porter',\n",
       "  'Chellie Pingree',\n",
       "  'Cheri Bustos',\n",
       "  'Dan Kildee',\n",
       "  'Daniel Lipinski',\n",
       "  'Debbie Dingell',\n",
       "  'Derek Kilmer',\n",
       "  'Dina Titus',\n",
       "  'Eric Swalwell',\n",
       "  'Jan Schakowsky',\n",
       "  'Joe Courtney',\n",
       "  'John Yarmuth',\n",
       "  'Kathy Castor',\n",
       "  'Marc Veasey',\n",
       "  'Marcy Kaptur',\n",
       "  'Mark Pocan',\n",
       "  'Matt Cartwright',\n",
       "  'Paul Tonko',\n",
       "  'Rick Nolan',\n",
       "  'Ruben Gallego',\n",
       "  'Seth Moulton',\n",
       "  'Tim Ryan',\n",
       "  'Vicente Gonzalez'},\n",
       " 'Congressional Progressive Caucus': {'Adam Smith',\n",
       "  'Adriano Espaillat',\n",
       "  'Alan Lowenthal',\n",
       "  'Alma Adams',\n",
       "  'André Carson',\n",
       "  'Barbara Lee',\n",
       "  'Bennie Thompson',\n",
       "  'Bonnie Watson Coleman',\n",
       "  'Brenda Lawrence',\n",
       "  'Carol Shea-Porter',\n",
       "  'Chellie Pingree',\n",
       "  'Darren Soto',\n",
       "  'Dave Loebsack',\n",
       "  'David Cicilline',\n",
       "  'Debbie Dingell',\n",
       "  'Dwight Evans',\n",
       "  'Eddie Bernice Johnson',\n",
       "  'Eleanor Holmes Norton',\n",
       "  'Frank Pallone',\n",
       "  'Frederica Wilson',\n",
       "  'Gwen Moore',\n",
       "  'Hakeem Jeffries',\n",
       "  'Hank Johnson',\n",
       "  'Jamie Raskin',\n",
       "  'Jan Schakowsky',\n",
       "  'Jared Huffman',\n",
       "  'Jared Polis',\n",
       "  'Jerrold Nadler',\n",
       "  'Jim McGovern',\n",
       "  'Jimmy Gomez',\n",
       "  'John Conyers',\n",
       "  'John Lewis',\n",
       "  'John Yarmuth',\n",
       "  'Judy Chu',\n",
       "  'Karen Bass',\n",
       "  'Katherine Clark',\n",
       "  'Keith Ellison',\n",
       "  'Lisa Blunt Rochester',\n",
       "  'Lloyd Doggett',\n",
       "  'Lois Frankel',\n",
       "  'Lucille Roybal-Allard',\n",
       "  'Mark DeSaulnier',\n",
       "  'Mark Pocan',\n",
       "  'Mark Takano',\n",
       "  'Matt Cartwright',\n",
       "  'Maxine Waters',\n",
       "  'Nancy Pelosi',\n",
       "  'Nanette Barragán',\n",
       "  'Peter Welch',\n",
       "  'Pramila Jayapal',\n",
       "  'Rick Nolan',\n",
       "  'Ro Khanna',\n",
       "  'Rosa DeLauro',\n",
       "  'Ruben Gallego',\n",
       "  'Ruben Kihuen',\n",
       "  'Sheila Jackson Lee',\n",
       "  'Steve Cohen',\n",
       "  'Suzanne Bonamici',\n",
       "  'Ted Lieu',\n",
       "  'Tulsi Gabbard',\n",
       "  'Val Demings',\n",
       "  'Zoe Lofgren'},\n",
       " 'List of members of the Blue Dog Coalition': {'Brad Schneider',\n",
       "  'Charlie Crist',\n",
       "  'Cheri Bustos',\n",
       "  'David Scott',\n",
       "  'Henry Cuellar',\n",
       "  'Jim Cooper',\n",
       "  'Jim Costa',\n",
       "  'Josh Gottheimer',\n",
       "  'Kurt Schrader',\n",
       "  'Kyrsten Sinema',\n",
       "  'Mike Thompson',\n",
       "  'Stephanie Murphy',\n",
       "  \"Tom O'Halleran\"},\n",
       " 'New Democrat Coalition': {'Adam Smith',\n",
       "  'Ami Bera',\n",
       "  'André Carson',\n",
       "  'Ann McLane Kuster',\n",
       "  \"Beto O'Rourke\",\n",
       "  'Bill Foster',\n",
       "  'Bill Keating',\n",
       "  'Bill Pascrell',\n",
       "  'Brad Schneider',\n",
       "  'Cedric Richmond',\n",
       "  'Charlie Crist',\n",
       "  'Cheri Bustos',\n",
       "  'Colleen Hanabusa',\n",
       "  'Darren Soto',\n",
       "  'David Scott',\n",
       "  'Debbie Wasserman Schultz',\n",
       "  'Denny Heck',\n",
       "  'Derek Kilmer',\n",
       "  'Ed Perlmutter',\n",
       "  'Eliot L. Engel',\n",
       "  'Elizabeth Esty',\n",
       "  'Henry Cuellar',\n",
       "  'Jared Polis',\n",
       "  'Jim Cooper',\n",
       "  'Jim Costa',\n",
       "  'Jim Himes',\n",
       "  'Joe Courtney',\n",
       "  'John Delaney',\n",
       "  'Joseph Crowley',\n",
       "  'Josh Gottheimer',\n",
       "  'Juan Vargas',\n",
       "  'Julia Brownley',\n",
       "  'Kathleen Rice',\n",
       "  'Kurt Schrader',\n",
       "  'Kyrsten Sinema',\n",
       "  'Lisa Blunt Rochester',\n",
       "  'Mike Quigley',\n",
       "  'Mike Thompson',\n",
       "  'Norma Torres',\n",
       "  'Pete Aguilar',\n",
       "  'Raja Krishnamoorthi',\n",
       "  'Rick Larsen',\n",
       "  'Ron Kind',\n",
       "  'Ruben Kihuen',\n",
       "  'Salud Carbajal',\n",
       "  'Sean Patrick Maloney',\n",
       "  'Seth Moulton',\n",
       "  'Stacey Plaskett',\n",
       "  'Stephanie Murphy',\n",
       "  'Terri Sewell',\n",
       "  \"Tom O'Halleran\",\n",
       "  'Val Demings'}}"
      ]
     },
     "execution_count": 298,
     "metadata": {},
     "output_type": "execute_result"
    }
   ],
   "source": [
    "dem_caucus_dict"
   ]
  }
 ],
 "metadata": {
  "kernelspec": {
   "display_name": "Python 3",
   "language": "python",
   "name": "python3"
  },
  "language_info": {
   "codemirror_mode": {
    "name": "ipython",
    "version": 3
   },
   "file_extension": ".py",
   "mimetype": "text/x-python",
   "name": "python",
   "nbconvert_exporter": "python",
   "pygments_lexer": "ipython3",
   "version": "3.6.3"
  }
 },
 "nbformat": 4,
 "nbformat_minor": 2
}
