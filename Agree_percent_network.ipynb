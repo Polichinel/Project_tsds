{
 "cells": [
  {
   "cell_type": "code",
   "execution_count": 12,
   "metadata": {},
   "outputs": [],
   "source": [
    "import pandas as pd\n",
    "import numpy as np\n",
    "from congress import Congress\n",
    "import networkx as nx\n",
    "from tqdm import tqdm\n",
    "import matplotlib.pyplot as plt\n",
    "import time\n",
    "from congress import CongressError\n",
    "import os\n",
    "#import pygraphviz\n",
    "import seaborn as sns\n",
    "\n",
    "from networkx.drawing.nx_agraph import graphviz_layout\n",
    "import graphviz"
   ]
  },
  {
   "cell_type": "code",
   "execution_count": 2,
   "metadata": {},
   "outputs": [],
   "source": [
    "congress = Congress('rsDVQCxE9vexRoqau9VTUMnRgxRHkYyDzPX1I6QZ')\n",
    "house = congress.members.filter('house') # or house\n",
    "df_house = pd.DataFrame.from_dict(house[0]['members'])\n",
    "member_ids = list(df_house.id)"
   ]
  },
  {
   "cell_type": "code",
   "execution_count": 3,
   "metadata": {},
   "outputs": [
    {
     "data": {
      "text/plain": [
       "Index(['api_uri', 'at_large', 'contact_form', 'crp_id', 'cspan_id',\n",
       "       'date_of_birth', 'district', 'dw_nominate', 'facebook_account', 'fax',\n",
       "       'fec_candidate_id', 'first_name', 'gender', 'geoid', 'google_entity_id',\n",
       "       'govtrack_id', 'icpsr_id', 'id', 'ideal_point', 'in_office',\n",
       "       'last_name', 'leadership_role', 'middle_name', 'missed_votes',\n",
       "       'missed_votes_pct', 'next_election', 'ocd_id', 'office', 'party',\n",
       "       'phone', 'rss_url', 'seniority', 'short_title', 'state', 'suffix',\n",
       "       'title', 'total_present', 'total_votes', 'twitter_account', 'url',\n",
       "       'votes_with_party_pct', 'votesmart_id', 'youtube_account'],\n",
       "      dtype='object')"
      ]
     },
     "execution_count": 3,
     "metadata": {},
     "output_type": "execute_result"
    }
   ],
   "source": [
    "df_house.columns"
   ]
  },
  {
   "cell_type": "code",
   "execution_count": 4,
   "metadata": {},
   "outputs": [],
   "source": [
    "fullname = df_house.first_name + \" \" + df_house.last_name"
   ]
  },
  {
   "cell_type": "code",
   "execution_count": 9,
   "metadata": {},
   "outputs": [
    {
     "data": {
      "text/plain": [
       "449"
      ]
     },
     "execution_count": 9,
     "metadata": {},
     "output_type": "execute_result"
    }
   ],
   "source": [
    "len(member_ids)"
   ]
  },
  {
   "cell_type": "markdown",
   "metadata": {
    "collapsed": true
   },
   "source": [
    "# Downloading the data"
   ]
  },
  {
   "cell_type": "code",
   "execution_count": 11,
   "metadata": {},
   "outputs": [
    {
     "name": "stdout",
     "output_type": "stream",
     "text": [
      "-------------------Member nr 1, A000374, is saved\n",
      "-------------------Member nr 2, A000370, is saved\n",
      "-------------------Member nr 3, A000055, is saved\n",
      "-------------------Member nr 4, A000371, is saved\n",
      "-------------------Member nr 5, A000372, is saved\n",
      "-------------------Member nr 6, A000367, is saved\n",
      "-------------------Member nr 7, A000369, is saved\n",
      "-------------------Member nr 8, A000375, is saved\n",
      "-------------------Member nr 9, B001291, is saved\n",
      "-------------------Member nr 10, B001298, is saved\n",
      "-------------------Member nr 11, B001299, is saved\n",
      "-------------------Member nr 12, B001269, is saved\n",
      "-------------------Member nr 13, B001282, is saved\n",
      "-------------------Member nr 14, B001300, is saved\n",
      "-------------------Member nr 15, B000213, is saved\n",
      "-------------------Member nr 16, B001270, is saved\n",
      "-------------------Member nr 17, B001281, is saved\n",
      "-------------------Member nr 18, B000287, is saved\n",
      "-------------------Member nr 19, B001287, is saved\n",
      "-------------------Member nr 20, B001301, is saved\n"
     ]
    }
   ],
   "source": [
    "member1_id = []\n",
    "member2_id=[]\n",
    "congress_nr = []\n",
    "common_votes = []\n",
    "disagree_votes = []\n",
    "agree_percent = []\n",
    "disagree_percent = []\n",
    "index = []\n",
    "\n",
    "list_used = []\n",
    "\n",
    "\n",
    "count = 1\n",
    "idx=1\n",
    "for i in member_ids[:20]:\n",
    "    try:\n",
    "        for g in member_ids[:20]:\n",
    "            if g !=i:\n",
    "                if g not in list_used:\n",
    "                    list_used.append(i)\n",
    "                        \n",
    "                    data_tmp = congress.members.compare(first=i,second=g,chamber='house')\n",
    "\n",
    "                    member1_id.append(i)\n",
    "                    member2_id.append(g)\n",
    "                    congress_nr.append(data_tmp['congress'])\n",
    "                    common_votes.append(data_tmp['common_votes'])\n",
    "                    disagree_votes.append(data_tmp['disagree_votes'])\n",
    "                    agree_percent.append(data_tmp['agree_percent'])\n",
    "                    disagree_percent.append(data_tmp['disagree_percent'])\n",
    "                    index.append(idx)\n",
    "                    \n",
    "                    idx+=1\n",
    "\n",
    "                    time.sleep(0.1)\n",
    "                print('-', end='')\n",
    "                        \n",
    "    except(CongressError, RuntimeError, TypeError, NameError, ZeroDivisionError, IndexError) as e:\n",
    "        print(e, end=' ') # printing the name of the error\n",
    "        continue\n",
    "    \n",
    "    \n",
    "    df = pd.DataFrame(\n",
    "        {'disagree_percent': disagree_percent,\n",
    "         'agree_percent': agree_percent,\n",
    "         'disagree_votes': disagree_votes,\n",
    "         'common_votes':common_votes,\n",
    "         'congress_nr':congress_nr,\n",
    "         'member2_id':member2_id,\n",
    "         'member1_id':member1_id,\n",
    "         }, index=index\n",
    "    )\n",
    "\n",
    "    filename = 'C:/Users/Asger/Dropbox/Økonomi/Topics in Social Data Science/Projekt/Data/member_nr_'+str(count)+'_'+str(i)+'.csv'\n",
    "    #filename = 'C:/Users/Asger/Dropbox/Økonomi/Topics in Social Data Science/Projekt/Data/test.csv'\n",
    "    df.to_csv(filename, encoding='utf-8', header=True)\n",
    "    print('Member nr '+str(count)+', '+ str(i) + ', is saved')\n",
    "    \n",
    "    count +=1\n"
   ]
  },
  {
   "cell_type": "markdown",
   "metadata": {},
   "source": [
    "## Loading the data"
   ]
  },
  {
   "cell_type": "code",
   "execution_count": 5,
   "metadata": {},
   "outputs": [
    {
     "data": {
      "text/plain": [
       "2660"
      ]
     },
     "execution_count": 5,
     "metadata": {},
     "output_type": "execute_result"
    }
   ],
   "source": [
    "# Loading the files:\n",
    "os.chdir('C:/Users/Asger/Dropbox/Økonomi/Topics in Social Data Science/Projekt/Data/')\n",
    "\n",
    "data= []\n",
    "path = r'C:/Users/Asger/Dropbox/Økonomi/Topics in Social Data Science/Projekt/Data/'\n",
    "for root, dirs, files  in os.walk(path, topdown=False):\n",
    "    for i in files:\n",
    "        data.append(pd.read_csv(i, index_col=0))\n",
    "    \n",
    "df_data = pd.concat(data)\n",
    "len(df_data)"
   ]
  },
  {
   "cell_type": "code",
   "execution_count": 16,
   "metadata": {},
   "outputs": [
    {
     "data": {
      "text/html": [
       "<div>\n",
       "<style scoped>\n",
       "    .dataframe tbody tr th:only-of-type {\n",
       "        vertical-align: middle;\n",
       "    }\n",
       "\n",
       "    .dataframe tbody tr th {\n",
       "        vertical-align: top;\n",
       "    }\n",
       "\n",
       "    .dataframe thead th {\n",
       "        text-align: right;\n",
       "    }\n",
       "</style>\n",
       "<table border=\"1\" class=\"dataframe\">\n",
       "  <thead>\n",
       "    <tr style=\"text-align: right;\">\n",
       "      <th></th>\n",
       "      <th>agree_percent</th>\n",
       "      <th>common_votes</th>\n",
       "      <th>congress_nr</th>\n",
       "      <th>disagree_percent</th>\n",
       "      <th>disagree_votes</th>\n",
       "      <th>member1_id</th>\n",
       "      <th>member2_id</th>\n",
       "    </tr>\n",
       "  </thead>\n",
       "  <tbody>\n",
       "    <tr>\n",
       "      <th>1</th>\n",
       "      <td>25.59</td>\n",
       "      <td>848</td>\n",
       "      <td>115</td>\n",
       "      <td>74.41</td>\n",
       "      <td>631</td>\n",
       "      <td>A000374</td>\n",
       "      <td>A000370</td>\n",
       "    </tr>\n",
       "    <tr>\n",
       "      <th>2</th>\n",
       "      <td>96.56</td>\n",
       "      <td>844</td>\n",
       "      <td>115</td>\n",
       "      <td>3.44</td>\n",
       "      <td>29</td>\n",
       "      <td>A000374</td>\n",
       "      <td>A000055</td>\n",
       "    </tr>\n",
       "    <tr>\n",
       "      <th>3</th>\n",
       "      <td>28.82</td>\n",
       "      <td>864</td>\n",
       "      <td>115</td>\n",
       "      <td>71.18</td>\n",
       "      <td>615</td>\n",
       "      <td>A000374</td>\n",
       "      <td>A000371</td>\n",
       "    </tr>\n",
       "    <tr>\n",
       "      <th>4</th>\n",
       "      <td>97.81</td>\n",
       "      <td>868</td>\n",
       "      <td>115</td>\n",
       "      <td>2.19</td>\n",
       "      <td>19</td>\n",
       "      <td>A000374</td>\n",
       "      <td>A000372</td>\n",
       "    </tr>\n",
       "    <tr>\n",
       "      <th>5</th>\n",
       "      <td>72.25</td>\n",
       "      <td>872</td>\n",
       "      <td>115</td>\n",
       "      <td>27.75</td>\n",
       "      <td>242</td>\n",
       "      <td>A000374</td>\n",
       "      <td>A000367</td>\n",
       "    </tr>\n",
       "  </tbody>\n",
       "</table>\n",
       "</div>"
      ],
      "text/plain": [
       "   agree_percent  common_votes  congress_nr  disagree_percent  disagree_votes  \\\n",
       "1          25.59           848          115             74.41             631   \n",
       "2          96.56           844          115              3.44              29   \n",
       "3          28.82           864          115             71.18             615   \n",
       "4          97.81           868          115              2.19              19   \n",
       "5          72.25           872          115             27.75             242   \n",
       "\n",
       "  member1_id member2_id  \n",
       "1    A000374    A000370  \n",
       "2    A000374    A000055  \n",
       "3    A000374    A000371  \n",
       "4    A000374    A000372  \n",
       "5    A000374    A000367  "
      ]
     },
     "execution_count": 16,
     "metadata": {},
     "output_type": "execute_result"
    }
   ],
   "source": [
    "df_data.head()"
   ]
  },
  {
   "cell_type": "markdown",
   "metadata": {},
   "source": [
    "## Network"
   ]
  },
  {
   "cell_type": "code",
   "execution_count": 6,
   "metadata": {},
   "outputs": [],
   "source": [
    "repulicans = [i for i in list(df_house[df_house.party == \"R\"][\"id\"]) if i] # remove None_type hack -> men none types er vel indies\n",
    "democrats = [i for i in list(df_house[df_house.party == \"D\"][\"id\"]) if i] # remove None_type hack"
   ]
  },
  {
   "cell_type": "code",
   "execution_count": 7,
   "metadata": {},
   "outputs": [
    {
     "data": {
      "text/plain": [
       "207"
      ]
     },
     "execution_count": 7,
     "metadata": {},
     "output_type": "execute_result"
    }
   ],
   "source": [
    "#Finding all the nodes:\n",
    "df_edges = df_data.loc[df_data['agree_percent'] > 97]\n",
    "edges = list(zip(df_edges.member1_id, df_edges.member2_id))\n",
    "len(edges)"
   ]
  },
  {
   "cell_type": "code",
   "execution_count": 8,
   "metadata": {},
   "outputs": [],
   "source": [
    "G = nx.Graph()\n",
    "G.add_edges_from(edges) # Indies må komme herfra! Der må være edges som du ikke har nodes på....\n",
    "G.add_nodes_from(repulicans, party = \"R\", party_int = 0)\n",
    "G.add_nodes_from(democrats, party = \"D\", party_int = 1)\n",
    "\n",
    "no_party = []\n",
    "\n",
    "for i, p in list(G.nodes(data=True)):\n",
    "    if len(p) == 0:\n",
    "        no_party.append(i)\n",
    "        \n",
    "G.remove_nodes_from(no_party) # det er nok det her der burde ske.. men så skal low_degree ind efter...\n",
    "\n",
    "#G.add_nodes_from(no_party, party = \"non\", party_int = 2)\n",
    "\n",
    "\n",
    "low_degree = []\n",
    "\n",
    "for i in list(G.degree()):\n",
    "    if i[1] < 1: # a bit high..\n",
    "        low_degree.append(i[0])\n",
    "        \n",
    "G.remove_nodes_from(low_degree)\n",
    "\n",
    "\n",
    "R_nodes = [n for n, p in list(G.nodes(data=True)) if p['party'] == 'R']\n",
    "D_nodes =  [n for n, p in list(G.nodes(data=True)) if p['party'] == 'D']\n",
    "#N_nodes =  [n for n, p in list(G.nodes(data=True)) if p['party'] == 'non']"
   ]
  },
  {
   "cell_type": "code",
   "execution_count": 9,
   "metadata": {},
   "outputs": [
    {
     "data": {
      "text/plain": [
       "'Name: \\nType: Graph\\nNumber of nodes: 13\\nNumber of edges: 15\\nAverage degree:   2.3077'"
      ]
     },
     "execution_count": 9,
     "metadata": {},
     "output_type": "execute_result"
    }
   ],
   "source": [
    "nx.info(G)"
   ]
  },
  {
   "cell_type": "code",
   "execution_count": 13,
   "metadata": {},
   "outputs": [
    {
     "data": {
      "image/png": "[encoded data removed]",
      "text/plain": [
       "<matplotlib.figure.Figure at 0x22640cfbdd8>"
      ]
     },
     "metadata": {},
     "output_type": "display_data"
    },
    {
     "data": {
      "image/png": "[encoded data removed]",
      "text/plain": [
       "<matplotlib.figure.Figure at 0x22640d3ce80>"
      ]
     },
     "metadata": {},
     "output_type": "display_data"
    },
    {
     "name": "stdout",
     "output_type": "stream",
     "text": [
      "0.3974358974358974\n",
      "13\n",
      "15\n"
     ]
    }
   ],
   "source": [
    "plt.axes([2,3,2,3])\n",
    "\n",
    "#nx.draw(G, with_labels=True, font_weight='bold', alpha=0.6, pos = graphviz_layout(G))\n",
    "\n",
    "#pos = graphviz_layout(G)\n",
    "pos = nx.spring_layout(G)\n",
    "\n",
    "nx.draw_networkx_edges(G, node_size=12, alpha = 0.1, pos=pos)\n",
    "\n",
    "nx.draw_networkx_nodes(G, font_size=8, nodelist=R_nodes , node_size=20, node_color=\"red\", alpha = 0.6, pos=pos, label = \"Rep\")\n",
    "nx.draw_networkx_nodes(G, font_size=8, nodelist=D_nodes , node_size=20, node_color=\"blue\", alpha = 0.6, pos=pos, label = \"Dem\")\n",
    "#nx.draw_networkx_nodes(G, font_size=8, nodelist=N_nodes , node_size=20, node_color=\"cyan\", alpha = 0.6, pos=graphviz_layout(G), label = \"Indie\") \n",
    "\n",
    "plt.legend()\n",
    "plt.xticks(())\n",
    "plt.yticks(())\n",
    "#sns.despine(left=True, bottom=True)\n",
    "\n",
    "plt.savefig('net170.pdf', bbox_inches=\"tight\")\n",
    "plt.show()\n",
    "\n",
    "#----------------------------------------------------\n",
    "\n",
    "plt.figure(figsize=[15,4])\n",
    "\n",
    "plt.hist(list(dict(G.degree()).values()))#, bins=np.arange(0,10,1), density=True, alpha = 0.6)\n",
    "\n",
    "#sns.kdeplot(list(dict(G.degree()).values()), label = \"kde (bw = 0.4)\", bw=0.4, color=\"darkorange\")\n",
    "#G_norm = stats.norm(np.mean(list(dict(G.degree()).values())),np.std(list(dict(G.degree()).values())))\n",
    "#grid = np.arange(0,30,0.1)\n",
    "#plt.plot(grid,G_norm.pdf(grid), color = \"darkblue\", label = \"normal distribution\")\n",
    "\n",
    "#plt.xlim(1,10)\n",
    "plt.xlabel(\"degree\", fontsize = 20)\n",
    "sns.despine()\n",
    "\n",
    "plt.show()\n",
    "\n",
    "#nx.write_gexf(G, \"small_set.gexf\", version=\"1.2draft\")\n",
    "\n",
    "print(nx.average_clustering(G)) # tolkning, tak.\n",
    "print(len(G.nodes()))\n",
    "print(len(G.edges()))"
   ]
  }
 ],
 "metadata": {
  "kernelspec": {
   "display_name": "Python 3",
   "language": "python",
   "name": "python3"
  },
  "language_info": {
   "codemirror_mode": {
    "name": "ipython",
    "version": 3
   },
   "file_extension": ".py",
   "mimetype": "text/x-python",
   "name": "python",
   "nbconvert_exporter": "python",
   "pygments_lexer": "ipython3",
   "version": "3.6.5"
  }
 },
 "nbformat": 4,
 "nbformat_minor": 2
}
