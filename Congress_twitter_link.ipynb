{
 "cells": [
  {
   "cell_type": "markdown",
   "metadata": {},
   "source": [
    "# Can Congress and Twitter data be linked?"
   ]
  },
  {
   "cell_type": "markdown",
   "metadata": {},
   "source": [
    ">How to use Congress API: https://github.com/eyeseast/propublica-congress/blob/master/docs/api.rst"
   ]
  },
  {
   "cell_type": "code",
   "execution_count": 14,
   "metadata": {
    "collapsed": true
   },
   "outputs": [],
   "source": [
    "import tweepy\n",
    "import pandas as pd"
   ]
  },
  {
   "cell_type": "markdown",
   "metadata": {},
   "source": [
    "## Set up Congress API: Senate"
   ]
  },
  {
   "cell_type": "code",
   "execution_count": 17,
   "metadata": {},
   "outputs": [],
   "source": [
    "from congress import Congress\n",
    "\n",
    "congress = Congress('qa1qfTzGinGGLcNCbinp2OTlI2SvzBe4KFgxYobm')\n",
    "\n",
    "# get member by bioguide ID\n",
    "senate = congress.members.filter('senate')"
   ]
  },
  {
   "cell_type": "code",
   "execution_count": 42,
   "metadata": {},
   "outputs": [
    {
     "data": {
      "text/plain": [
       "Index(['api_uri', 'contact_form', 'crp_id', 'cspan_id', 'date_of_birth',\n",
       "       'dw_nominate', 'facebook_account', 'fax', 'fec_candidate_id',\n",
       "       'first_name', 'gender', 'google_entity_id', 'govtrack_id', 'icpsr_id',\n",
       "       'id', 'ideal_point', 'in_office', 'last_name', 'leadership_role',\n",
       "       'lis_id', 'middle_name', 'missed_votes', 'missed_votes_pct',\n",
       "       'next_election', 'ocd_id', 'office', 'party', 'phone', 'rss_url',\n",
       "       'senate_class', 'seniority', 'short_title', 'state', 'state_rank',\n",
       "       'suffix', 'title', 'total_present', 'total_votes', 'twitter_account',\n",
       "       'url', 'votes_with_party_pct', 'votesmart_id', 'youtube_account'],\n",
       "      dtype='object')"
      ]
     },
     "execution_count": 42,
     "metadata": {},
     "output_type": "execute_result"
    }
   ],
   "source": [
    "#access members in dict\n",
    "sen_members = senate[0]['members']\n",
    "\n",
    "#save in df\n",
    "df_senate = pd.DataFrame(sen_members)\n",
    "df_senate.columns #twitter_account gives twitter name"
   ]
  },
  {
   "cell_type": "code",
   "execution_count": 54,
   "metadata": {},
   "outputs": [],
   "source": [
    "total = df_senate.shape[0]"
   ]
  },
  {
   "cell_type": "code",
   "execution_count": 57,
   "metadata": {},
   "outputs": [
    {
     "name": "stdout",
     "output_type": "stream",
     "text": [
      "Share of Senators without Twitter account: 3.8461538461538463 \n",
      "Share of Senators without YouTube account: 15.384615384615385\n"
     ]
    }
   ],
   "source": [
    "print (\"Share of Senators without Twitter account:\", (df_senate.twitter_account.isnull().sum()/total)*100,'\\n'\n",
    "      \"Share of Senators without YouTube account:\", (df_senate.youtube_account.isnull().sum()/total)*100\n",
    "      )"
   ]
  },
  {
   "cell_type": "markdown",
   "metadata": {},
   "source": [
    ">Good News: only 3% do not have a twitter account"
   ]
  },
  {
   "cell_type": "markdown",
   "metadata": {},
   "source": [
    "## Set up Tweepy"
   ]
  },
  {
   "cell_type": "code",
   "execution_count": 58,
   "metadata": {
    "collapsed": true
   },
   "outputs": [],
   "source": [
    "from tweepy import OAuthHandler\n",
    "from tweepy import API\n",
    "from tweepy import Cursor\n",
    "from datetime import datetime, date, time, timedelta\n",
    "from collections import Counter\n",
    "import sys"
   ]
  },
  {
   "cell_type": "code",
   "execution_count": 72,
   "metadata": {
    "collapsed": true
   },
   "outputs": [],
   "source": [
    "consumer_key= 'AKEpYmXTTBDu6lePXsBfOz3zy'\n",
    "consumer_secret = 'h6Kz7HPfmGVCVqsKeck6kSwOsIxnIHeMpEy6NOUkfSYHjF8NMJ'\n",
    "access_token=\"991768520546488321-OvBfDZg6YEZpo3oWnabsOj5rhRBCNvY\"\n",
    "access_token_secret=\"wLJUj2hDB0wE4A4x2TgNnesEqFmqHbyRlNvMorWjcoMfw\"\n",
    " \n",
    "auth = OAuthHandler(consumer_key, consumer_secret)\n",
    "auth.set_access_token(access_token, access_token_secret)\n",
    "auth_api = API(auth)"
   ]
  },
  {
   "cell_type": "code",
   "execution_count": 85,
   "metadata": {},
   "outputs": [
    {
     "data": {
      "text/plain": [
       "['SenAlexander', 'SenatorBaldwin', 'SenJohnBarrasso']"
      ]
     },
     "execution_count": 85,
     "metadata": {},
     "output_type": "execute_result"
    }
   ],
   "source": [
    "#save account names in list an skip 'None'\n",
    "account_list = [i for i in df_senate['twitter_account'] if not i == None] \n",
    "account_list[:3]"
   ]
  },
  {
   "cell_type": "raw",
   "metadata": {},
   "source": [
    "if (len(sys.argv) > 1):\n",
    "    account_list = sys.argv[1:]\n",
    "else:\n",
    "    print(\"Please provide a list of usernames at the command line.\")\n",
    "    sys.exit(0)"
   ]
  },
  {
   "cell_type": "code",
   "execution_count": 103,
   "metadata": {},
   "outputs": [
    {
     "name": "stdout",
     "output_type": "stream",
     "text": [
      "SenAlexander\n",
      "Account age (in days): 3143\n",
      "Average tweets per day: 1.40 \n",
      "\n",
      "SenatorBaldwin\n",
      "Account age (in days): 1939\n",
      "Average tweets per day: 5.96 \n",
      "\n",
      "SenJohnBarrasso\n",
      "Account age (in days): 2758\n",
      "Average tweets per day: 1.37 \n",
      "\n"
     ]
    }
   ],
   "source": [
    "for target in account_list[:3]: #just a subset\n",
    "    print ('%s' %target)\n",
    "    item = auth_api.get_user(target)\n",
    "    tweets = item.statuses_count\n",
    "    account_created_date = item.created_at\n",
    "    delta = datetime.utcnow() - account_created_date\n",
    "    account_age_days = delta.days\n",
    "    print(\"Account age (in days): \" + str(account_age_days))\n",
    "    \n",
    "    if account_age_days > 0:\n",
    "        print(\"Average tweets per day: \" + \"%.2f \\n\"%(float(tweets)/float(account_age_days)))"
   ]
  },
  {
   "cell_type": "markdown",
   "metadata": {},
   "source": [
    "#### How actively are they tweeting?"
   ]
  },
  {
   "cell_type": "code",
   "execution_count": null,
   "metadata": {
    "collapsed": true
   },
   "outputs": [],
   "source": []
  }
 ],
 "metadata": {
  "kernelspec": {
   "display_name": "Python 3",
   "language": "python",
   "name": "python3"
  },
  "language_info": {
   "codemirror_mode": {
    "name": "ipython",
    "version": 3
   },
   "file_extension": ".py",
   "mimetype": "text/x-python",
   "name": "python",
   "nbconvert_exporter": "python",
   "pygments_lexer": "ipython3",
   "version": "3.6.3"
  }
 },
 "nbformat": 4,
 "nbformat_minor": 2
}
